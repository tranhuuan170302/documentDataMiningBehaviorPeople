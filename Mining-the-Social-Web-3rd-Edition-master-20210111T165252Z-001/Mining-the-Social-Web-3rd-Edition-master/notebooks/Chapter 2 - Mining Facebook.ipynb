{
 "cells": [
  {
   "cell_type": "markdown",
   "metadata": {
    "colab_type": "text",
    "id": "7fawX90aSc_E"
   },
   "source": [
    "# Mining the Social Web\n",
    "\n",
    "## Mining Facebook\n",
    "\n",
    "This Jupyter Notebook provides an interactive way to follow along with the video lectures. The intent behind this notebook is to reinforce the concepts in a fun, convenient, and effective way."
   ]
  },
  {
   "cell_type": "markdown",
   "metadata": {
    "colab_type": "text",
    "id": "PmCIpEAGSc_G"
   },
   "source": [
    "## Facebook API Access\n",
    "\n",
    "Facebook implements OAuth 2.0 as its standard authentication mechanism, but provides a convenient way for you to get an _access token_ for development purposes, and we'll opt to take advantage of that convenience in this notebook.\n",
    "\n",
    "To get started, log in to your Facebook account and go to https://developers.facebook.com/tools/explorer/ to obtain an ACCESS_TOKEN, and then paste it into the code cell below."
   ]
  },
  {
   "cell_type": "code",
   "execution_count": 0,
   "metadata": {
    "colab": {},
    "colab_type": "code",
    "id": "t-Ky13sMSc_H"
   },
   "outputs": [],
   "source": [
    "# Copy and paste in the value you just got from the inline frame into this variable and execute this cell.\n",
    "# Keep in mind that you could have just gone to https://developers.facebook.com/tools/access_token/\n",
    "# and retrieved the \"User Token\" value from the Access Token Tool\n",
    "\n",
    "ACCESS_TOKEN = 'EAAMP7rNwJ28BABUFekVviZCNCYv2joidTB4AbGXYUFSZCEyYGKZANwzrXHPFyaZBgn0DVZCNnTQKxMZBZCILmEaopbZA8qGGZCZBknL71WZAQIxemHf0VYhwsiJCLZCAmFcWuhvZAdJAPUKqCCNfGhYBBQv2gDr9un1EEmh6Gxq7sLklb5mZBEBqbRZAyXSuDOSU7GKX7ZCqY2pH5bXeoxXNzUMGyZAK947bq2h2gJDU6rcwrktYxvAZDZD'"
   ]
  },
  {
   "cell_type": "markdown",
   "metadata": {
    "colab_type": "text",
    "id": "gNBD_e6cSc_M"
   },
   "source": [
    "## Example 1. Making Graph API requests over HTTP"
   ]
  },
  {
   "cell_type": "code",
   "execution_count": 6,
   "metadata": {
    "colab": {
     "base_uri": "https://localhost:8080/",
     "height": 1000
    },
    "colab_type": "code",
    "executionInfo": {
     "elapsed": 1113,
     "status": "ok",
     "timestamp": 1589770880999,
     "user": {
      "displayName": "Đặng Nhân Cách - TT. DL&CNTT",
      "photoUrl": "",
      "userId": "16824149070900219040"
     },
     "user_tz": -420
    },
    "id": "nMCM5Hh8Sc_O",
    "outputId": "daeda917-bf11-4169-e199-334e0eacc2af"
   },
   "outputs": [
    {
     "name": "stdout",
     "output_type": "stream",
     "text": [
      "https://graph.facebook.com/me?fields=id,name,likes.limit(100){about}&access_token=EAAMP7rNwJ28BABUFekVviZCNCYv2joidTB4AbGXYUFSZCEyYGKZANwzrXHPFyaZBgn0DVZCNnTQKxMZBZCILmEaopbZA8qGGZCZBknL71WZAQIxemHf0VYhwsiJCLZCAmFcWuhvZAdJAPUKqCCNfGhYBBQv2gDr9un1EEmh6Gxq7sLklb5mZBEBqbRZAyXSuDOSU7GKX7ZCqY2pH5bXeoxXNzUMGyZAK947bq2h2gJDU6rcwrktYxvAZDZD\n",
      "{\n",
      " \"id\": \"2335026633216756\",\n",
      " \"name\": \"Nhan Cach Dang\",\n",
      " \"likes\": {\n",
      "  \"data\": [\n",
      "   {\n",
      "    \"about\": \"Hoang d\\u00e3 v\\u00e0 tr\\u00e0n \\u0111\\u1ea7y n\\u0103ng l\\u01b0\\u1ee3ng c\\u1ee7a tu\\u1ed5i tr\\u1ebb. Power Of Youth.\",\n",
      "    \"id\": \"784456211952555\"\n",
      "   },\n",
      "   {\n",
      "    \"about\": \"Ti\\u1ec7m gi\\u00e0y Sneaker G\\u00f3c h\\u1ebbm chuy\\u00ean b\\u00e1n gi\\u00e0y Sneaker second hand \\n\\ud83d\\udc5fH\\u00c0NG TH\\u1eacT GI\\u00c1 TH\\u1ea4P\\n\\ud83d\\udc5f\\u0110A D\\u1ea0NG M\\u1eaaU M\\u00c3\\n\\ud83d\\udc5f CH\\u1ea4T L\\u01af\\u1ee2NG LIKE NEW\\n\",\n",
      "    \"id\": \"585484615280630\"\n",
      "   },\n",
      "   {\n",
      "    \"about\": \"Shut up and put (y)our mask on. \",\n",
      "    \"id\": \"106224327655358\"\n",
      "   },\n",
      "   {\n",
      "    \"about\": \"Trung T\\u00e2m Tin H\\u1ecdc Kinh T\\u1ebf tr\\u1ef1c thu\\u1ed9c Khoa C\\u00f4ng ngh\\u1ec7 th\\u00f4ng tin kinh doanh - Tr\\u01b0\\u1eddng \\u0110\\u1ea1i h\\u1ecdc Kinh t\\u1ebf TP.HCM\",\n",
      "    \"id\": \"1120286121418662\"\n",
      "   },\n",
      "   {\n",
      "    \"about\": \"Cotre.vn chuy\\u00ean cung c\\u1ea5p s\\u1ec9 v\\u00e0 l\\u1ebb \\u0111\\u1eb7c s\\u1ea3n kh\\u00f4 c\\u00e1 v\\u00e0 ch\\u1ea3 c\\u00e1 Ph\\u00fa Qu\\u00fd.\",\n",
      "    \"id\": \"112006990211889\"\n",
      "   },\n",
      "   {\n",
      "    \"about\": \"B\\u00e1o ti\\u1ebfng Vi\\u1ec7t nhi\\u1ec1u ng\\u01b0\\u1eddi xem nh\\u1ea5t.\",\n",
      "    \"id\": \"262700667105773\"\n",
      "   },\n",
      "   {\n",
      "    \"about\": \"\\u0426\\u0435\\u043d\\u0442\\u0440 \\u0443\\u043a\\u0440\\u0430\\u0438\\u043d\\u0441\\u043a\\u043e-\\u0432\\u044c\\u0435\\u0442\\u043d\\u0430\\u043c\\u0441\\u043a\\u043e\\u0433\\u043e \\u0441\\u043e\\u0442\\u0440\\u0443\\u0434\\u043d\\u0438\\u0447\\u0435\\u0441\\u0442\\u0432\\u0430.\\nTrung t\\u00e2m h\\u1ee3p t\\u00e1c nghi\\u00ean c\\u1ee9u khoa h\\u1ecdc v\\u00e0 gi\\u00e1o d\\u1ee5c Ukraine - Vi\\u1ec7t Nam\\n\",\n",
      "    \"id\": \"269712030544861\"\n",
      "   },\n",
      "   {\n",
      "    \"about\": \"Trang Vi\\u1ec7n C\\u01a1 Kh\\u00ed l\\u00e0 trang ho\\u1ea1t \\u0111\\u1ed9ng ch\\u1ee7 y\\u1ebfu c\\u1ee7a \\u0110o\\u00e0n - Vi\\u1ec7n, c\\u00e1c ho\\u1ea1t \\u0111\\u1ed9ng sinh ho\\u1ea1t, th\\u01b0\\u1eddng ni\\u00ean c\\u1ee7a sinh vi\\u00ean.\",\n",
      "    \"id\": \"437801696785125\"\n",
      "   },\n",
      "   {\n",
      "    \"about\": \"Tuy\\u1ec3n sinh: V\\u0103n B\\u1eb1ng 2, Li\\u00ean th\\u00f4ng Trung c\\u1ea5p, Cao \\u0111\\u1eb3ng l\\u00ean \\u0110\\u1ea1i h\\u1ecdc. V\\u0103n b\\u1eb1ng Tr\\u01b0\\u1eddng \\u0110\\u1ea1i h\\u1ecdc Giao th\\u00f4ng V\\u1eadn t\\u1ea3i Th\\u00e0nh ph\\u1ed1 H\\u1ed3 Ch\\u00ed Minh.\",\n",
      "    \"id\": \"1353216861418146\"\n",
      "   },\n",
      "   {\n",
      "    \"about\": \"Li\\u00ean t\\u1ee5c tuy\\u1ec3n sinh h\\u00ecnh th\\u1ee9c V\\u1eeba H\\u1ecdc V\\u1eeba l\\u00e0m c\\u00e1c h\\u1ec7 V\\u0103n b\\u1eb1ng 2, Li\\u00ean th\\u00f4ng t\\u1eeb trung c\\u1ea5p, cao \\u0111\\u1eb3ng l\\u00ean \\u0111\\u1ea1i h\\u1ecdc v\\u00e0 \\u0111\\u1ea1i h\\u1ecdc v\\u1eeba h\\u1ecdc v\\u1eeba l\\u00e0m t\\u1ea5t c\\u1ea3 c\\u00e1c ng\\u00e0nh.\",\n",
      "    \"id\": \"627500307722048\"\n",
      "   },\n",
      "   {\n",
      "    \"about\": \"MTC-UT: Trung t\\u00e2m \\u0110\\u00e0o t\\u1ea1o ngu\\u1ed3n nh\\u00e2n l\\u1ef1c ch\\u1ea5t l\\u01b0\\u1ee3ng cao cho n\\u1ec1n c\\u00f4ng nghi\\u1ec7p h\\u00e0ng h\\u1ea3i Vi\\u1ec7t Nam.\",\n",
      "    \"id\": \"1542480562562391\"\n",
      "   },\n",
      "   {\n",
      "    \"id\": \"283465048750953\"\n",
      "   },\n",
      "   {\n",
      "    \"about\": \"V\\u1edbi m\\u1ee5c \\u0111\\u00edch g\\u1eafn k\\u1ebft c\\u00e1c th\\u1ebf h\\u1ec7 SV Khoa CNTT Tr\\u01b0\\u1eddng \\u0110HGTVT TP.HCM, \\u0111\\u1ec3 Khoa v\\u00e0 t\\u1ea5t c\\u00e1c b\\u1ea1n c\\u00f3 th\\u1ec3 h\\u1ed7 tr\\u1ee3 v\\u00e0 gi\\u00fap \\u0111\\u1ee1 l\\u1eabn nhau, Khoa CNTT t\\u1ea1o FANPAGE nay.\",\n",
      "    \"id\": \"160272201469389\"\n",
      "   },\n",
      "   {\n",
      "    \"id\": \"570430543326398\"\n",
      "   },\n",
      "   {\n",
      "    \"about\": \"Tr\\u01b0\\u1eddng THPT Phan B\\u1ed9i Ch\\u00e2u-Phan Thi\\u1ebft (1952), Ng\\u00f4i tr\\u01b0\\u1eddng c\\u1ee7a l\\u1ecbch s\\u1eed v\\u00e0 tri th\\u1ee9c.\",\n",
      "    \"id\": \"223392757677808\"\n",
      "   },\n",
      "   {\n",
      "    \"about\": \"Blog chia s\\u1ebb ki\\u1ebfn th\\u1ee9c c\\u01a1 b\\u1ea3n v\\u1ec1 Machine Learning. \",\n",
      "    \"id\": \"361832200843284\"\n",
      "   },\n",
      "   {\n",
      "    \"id\": \"1706934146023369\"\n",
      "   },\n",
      "   {\n",
      "    \"id\": \"784831431705282\"\n",
      "   },\n",
      "   {\n",
      "    \"about\": \"H\\u1ed9i du h\\u1ecdc sinh T\\u00e2y Ban Nha l\\u00e0 m\\u1ed9t nh\\u00f3m c\\u00e1c b\\u1ea1n du h\\u1ecdc sinh \\u0111\\u00e3 ho\\u1eb7c \\u0111ang h\\u1ecdc t\\u1ea1i c\\u00e1c tr\\u01b0\\u1eddng T\\u00e2y Ban Nha, n\\u01a1i giao l\\u01b0u v\\u00e0 gi\\u00fap \\u0111\\u1ee1 l\\u1eabn nhau c\\u1ee7a h\\u1ed9i du h\\u1ecdc sinh t\\u1ea1i T\\u00e2y Ban Nha\",\n",
      "    \"id\": \"595407440614088\"\n",
      "   },\n",
      "   {\n",
      "    \"about\": \"Home made \\ufffd\",\n",
      "    \"id\": \"2395308537361707\"\n",
      "   },\n",
      "   {\n",
      "    \"id\": \"1533559106702183\"\n",
      "   },\n",
      "   {\n",
      "    \"about\": \"KHOA C\\u00d4NG TRI\\u0300NH GIAO TH\\u00d4NG\\nTR\\u01af\\u01a0\\u0300NG \\u0110A\\u0323I HO\\u0323C GTVT TP. H\\u00d4\\u0300 CHI\\u0301 MINH\\nhttp://ctgt.ut.edu.vn\",\n",
      "    \"id\": \"407980805966517\"\n",
      "   },\n",
      "   {\n",
      "    \"about\": \"H\\u1ecdc t\\u1ea1i tr\\u01b0\\u1eddng C\\u0110 Giao Th\\u00f4ng V\\u1eadn T\\u1ea3i III, TP HCM. hi\\u1ec7n \\u0111ang l\\u00e0m t\\u1ea1i CTy CP T\\u01b0 v\\u1ea5n x\\u00e2y d\\u1ef1ng B\\u00ecnh Thu\\u1eadn.\",\n",
      "    \"id\": \"128715254397615\"\n",
      "   },\n",
      "   {\n",
      "    \"about\": \"Ch\\u00e0o m\\u1eebng b\\u1ea1n \\u0111\\u1ebfn v\\u1edbi trang ch\\u00ednh th\\u1ee9c c\\u1ee7a Facebook Vi\\u1ec7t Nam.\",\n",
      "    \"id\": \"278992552121199\"\n",
      "   },\n",
      "   {\n",
      "    \"about\": \"The dblp computer science bibliography is an on-line reference for bibliographic information on major computer science publications. dblp currently indexes over 2.2 million publications, published by more than 1.1 million authors. \",\n",
      "    \"id\": \"164524897039879\"\n",
      "   },\n",
      "   {\n",
      "    \"about\": \"Open Science, Open Access\",\n",
      "    \"id\": \"1615577495366210\"\n",
      "   },\n",
      "   {\n",
      "    \"about\": \"H\\u1ecdc QU\\u1ea2N L\\u00dd C\\u1ea2NG V\\u00c0 LOGISTICS l\\u00e0 m\\u1ed9t l\\u1ef1a ch\\u1ecdn th\\u00f4ng minh cho b\\u1ea1n. Ch\\u01b0\\u01a1ng tr\\u00ecnh \\u0110\\u1ea1i h\\u1ecdc Ch\\u00ednh quy Qu\\u1ed1c t\\u1ebf, xem chi ti\\u1ebft t\\u1ea1i: http://duhoclogistics.com/chuong-trinh-hoc/\",\n",
      "    \"id\": \"503033636470223\"\n",
      "   },\n",
      "   {\n",
      "    \"about\": \"The skills people and businesses need to succeed are changing. No matter where you are in your career or what field you work in, you'll need to understand the language of data. With DataCamp, you learn data science today and apply it tomorrow.\",\n",
      "    \"id\": \"726282547396228\"\n",
      "   },\n",
      "   {\n",
      "    \"id\": \"1679064995706065\"\n",
      "   },\n",
      "   {\n",
      "    \"about\": \"Vicerrectorado de Investigaci\\u00f3n y Transferencia\",\n",
      "    \"id\": \"1065137636889582\"\n",
      "   },\n",
      "   {\n",
      "    \"id\": \"1061468207279202\"\n",
      "   },\n",
      "   {\n",
      "    \"about\": \"Tr\\u01b0\\u1eddng \\u0110\\u1ea1i h\\u1ecdc Giao th\\u00f4ng v\\u1eadn t\\u1ea3i Tp. H\\u1ed3 Ch\\u00ed Minh tr\\u1ef1c thu\\u1ed9c B\\u1ed9 GTVT l\\u00e0 m\\u1ed9t tr\\u01b0\\u1eddng \\u0111a ng\\u00e0nh thu\\u1ed9c l\\u0129nh v\\u1ef1c giao th\\u00f4ng v\\u1eadn t\\u1ea3i l\\u1edbn nh\\u1ea5t ph\\u00eda Nam Vi\\u1ec7t Nam.\",\n",
      "    \"id\": \"917252485064205\"\n",
      "   },\n",
      "   {\n",
      "    \"id\": \"1694599220813741\"\n",
      "   },\n",
      "   {\n",
      "    \"about\": \"Cung c\\u1ea5p c\\u00e1c kh\\u00f3a h\\u1ecdc ti\\u1ebfng Anh, Tin h\\u1ecdc, B\\u1ed3i d\\u01b0\\u1ee1ng v\\u0103n h\\u00f3a c\\u1ee7a Trung t\\u00e2m Tin h\\u1ecdc - Ngo\\u1ea1i ng\\u1eef - B\\u1ed3i d\\u01b0\\u1ee1ng v\\u0103n h\\u00f3a thu\\u1ed9c Tr\\u01b0\\u1eddng \\u0110H Giao th\\u00f4ng v\\u1eadn t\\u1ea3i TP.HCM\",\n",
      "    \"id\": \"1579612278993093\"\n",
      "   },\n",
      "   {\n",
      "    \"id\": \"383159831867573\"\n",
      "   },\n",
      "   {\n",
      "    \"about\": \"Ho\\u0323c ti\\u00ea\\u0301ng T\\u00e2y Ban Nha ta\\u0323i H\\u00f4\\u0300 Chi\\u0301 Minh va\\u0300 Ha\\u0300 N\\u00f4\\u0323i v\\u01a1\\u0301i \\u0111\\u00f4\\u0323i ngu\\u0303 100% gia\\u0309ng vi\\u00ean ba\\u0309n x\\u01b0\\u0301T\\u00e2y Ban Nha ch\\u00e2\\u0301t l\\u01b0\\u01a1\\u0323ng cao\\nhttp://hoctiengtaybannha.org/\",\n",
      "    \"id\": \"245883972236096\"\n",
      "   },\n",
      "   {\n",
      "    \"id\": \"841161175973934\"\n",
      "   },\n",
      "   {\n",
      "    \"about\": \"Chuy\\u00ean cung c\\u1ea5p hoa b\\u1ea5t t\\u1eed s\\u1ec9 v\\u00e0 l\\u1ebb t\\u1ea1i S\\u00e0i G\\u00f2n. Cung c\\u1ea5p c\\u00e1c s\\u1ea3n ph\\u1ea9m hoa b\\u1ea5t t\\u1eed handmade \",\n",
      "    \"id\": \"610952109040555\"\n",
      "   },\n",
      "   {\n",
      "    \"about\": \"Tr\\u01b0\\u1eddng \\u0110\\u1ea1i h\\u1ecdc Giao th\\u00f4ng v\\u1eadn t\\u1ea3i Tp. H\\u1ed3 Ch\\u00ed Minh tr\\u1ef1c thu\\u1ed9c B\\u1ed9 GTVT l\\u00e0 m\\u1ed9t tr\\u01b0\\u1eddng \\u0111a ng\\u00e0nh thu\\u1ed9c l\\u0129nh v\\u1ef1c giao th\\u00f4ng v\\u1eadn t\\u1ea3i l\\u1edbn nh\\u1ea5t ph\\u00eda Nam Vi\\u1ec7t Nam.\",\n",
      "    \"id\": \"894889390540060\"\n",
      "   },\n",
      "   {\n",
      "    \"about\": \"C\\u00f4ng ty TNHH Gi\\u1ea3i Ph\\u00e1p Tin H\\u1ecdc Tr\\u1ef1c Tuy\\u1ebfn N\\u00e9t Vi\\u1ec7t (NeViCom)\",\n",
      "    \"id\": \"664184233632440\"\n",
      "   },\n",
      "   {\n",
      "    \"about\": \"Gi\\u00e1 tr\\u1ecb th\\u1eadt c\\u1ee7a thi\\u00ean nhi\\u00ean!\",\n",
      "    \"id\": \"1401018376783057\"\n",
      "   },\n",
      "   {\n",
      "    \"about\": \"Videos m\\u1eb9o hay v\\u00e0 ki\\u1ebfn th\\u1ee9c b\\u1ed5 \\u00edch b\\u1ea1n s\\u1ebd th\\u00edch.\",\n",
      "    \"id\": \"99340462279\"\n",
      "   }\n",
      "  ],\n",
      "  \"paging\": {\n",
      "   \"cursors\": {\n",
      "    \"before\": \"Nzg0NDU2MjExOTUyNTU1\",\n",
      "    \"after\": \"OTkzNDA0NjIyNzkZD\"\n",
      "   }\n",
      "  }\n",
      " }\n",
      "}\n"
     ]
    }
   ],
   "source": [
    "import requests # pip install requests\n",
    "import json\n",
    "\n",
    "base_url = 'https://graph.facebook.com/me'\n",
    "\n",
    "# Specify which fields to retrieve\n",
    "fields = 'id,name,likes.limit(100){about}'\n",
    "\n",
    "url = '{0}?fields={1}&access_token={2}'.format(base_url, fields, ACCESS_TOKEN)\n",
    "\n",
    "# This API is HTTP-based and could be requested in the browser,\n",
    "# with a command line utlity like curl, or using just about\n",
    "# any programming language by making a request to the URL.\n",
    "# Click the hyperlink that appears in your notebook output\n",
    "# when you execute this code cell to see for yourself...\n",
    "print(url)\n",
    "\n",
    "# Interpret the response as JSON and convert back\n",
    "# to Python data structures\n",
    "content = requests.get(url).json()\n",
    "\n",
    "# Pretty-print the JSON and display it\n",
    "print(json.dumps(content, indent=1))"
   ]
  },
  {
   "cell_type": "markdown",
   "metadata": {
    "colab_type": "text",
    "id": "cgJLa5wQSc_S"
   },
   "source": [
    "## Example 2. Querying the Graph API with Python\n",
    "\n",
    "Facebook SDK for Python API reference:\n",
    "http://facebook-sdk.readthedocs.io/en/v2.0.0/api.html"
   ]
  },
  {
   "cell_type": "code",
   "execution_count": 0,
   "metadata": {
    "colab": {
     "base_uri": "https://localhost:8080/",
     "height": 141
    },
    "colab_type": "code",
    "executionInfo": {
     "elapsed": 4035,
     "status": "ok",
     "timestamp": 1589597826691,
     "user": {
      "displayName": "Đặng Nhân Cách - TT. DL&CNTT",
      "photoUrl": "",
      "userId": "16824149070900219040"
     },
     "user_tz": -420
    },
    "id": "6rXnoOGdSuAp",
    "outputId": "0340dc10-5c88-4639-d08a-a6727fc1ad8e"
   },
   "outputs": [
    {
     "name": "stdout",
     "output_type": "stream",
     "text": [
      "Requirement already satisfied: facebook-sdk in /usr/local/lib/python3.6/dist-packages (3.1.0)\n",
      "Requirement already satisfied: requests in /usr/local/lib/python3.6/dist-packages (from facebook-sdk) (2.23.0)\n",
      "Requirement already satisfied: certifi>=2017.4.17 in /usr/local/lib/python3.6/dist-packages (from requests->facebook-sdk) (2020.4.5.1)\n",
      "Requirement already satisfied: urllib3!=1.25.0,!=1.25.1,<1.26,>=1.21.1 in /usr/local/lib/python3.6/dist-packages (from requests->facebook-sdk) (1.24.3)\n",
      "Requirement already satisfied: chardet<4,>=3.0.2 in /usr/local/lib/python3.6/dist-packages (from requests->facebook-sdk) (3.0.4)\n",
      "Requirement already satisfied: idna<3,>=2.5 in /usr/local/lib/python3.6/dist-packages (from requests->facebook-sdk) (2.9)\n"
     ]
    }
   ],
   "source": [
    "!pip install facebook-sdk"
   ]
  },
  {
   "cell_type": "code",
   "execution_count": 7,
   "metadata": {
    "colab": {
     "base_uri": "https://localhost:8080/",
     "height": 193
    },
    "colab_type": "code",
    "executionInfo": {
     "elapsed": 8578,
     "status": "ok",
     "timestamp": 1589771107430,
     "user": {
      "displayName": "Đặng Nhân Cách - TT. DL&CNTT",
      "photoUrl": "",
      "userId": "16824149070900219040"
     },
     "user_tz": -420
    },
    "id": "iRox_uZAwlAr",
    "outputId": "8f49685c-aaae-40d6-ca5f-bb8a0d37bfaa"
   },
   "outputs": [
    {
     "name": "stdout",
     "output_type": "stream",
     "text": [
      "Collecting facebook-sdk\n",
      "  Downloading https://files.pythonhosted.org/packages/79/d7/4cb0f5930f79205cc45db22e17fa716396d813c3d6b8d5de77783a5fa59a/facebook_sdk-3.1.0-py2.py3-none-any.whl\n",
      "Requirement already satisfied: requests in /usr/local/lib/python3.6/dist-packages (from facebook-sdk) (2.23.0)\n",
      "Requirement already satisfied: idna<3,>=2.5 in /usr/local/lib/python3.6/dist-packages (from requests->facebook-sdk) (2.9)\n",
      "Requirement already satisfied: chardet<4,>=3.0.2 in /usr/local/lib/python3.6/dist-packages (from requests->facebook-sdk) (3.0.4)\n",
      "Requirement already satisfied: urllib3!=1.25.0,!=1.25.1,<1.26,>=1.21.1 in /usr/local/lib/python3.6/dist-packages (from requests->facebook-sdk) (1.24.3)\n",
      "Requirement already satisfied: certifi>=2017.4.17 in /usr/local/lib/python3.6/dist-packages (from requests->facebook-sdk) (2020.4.5.1)\n",
      "Installing collected packages: facebook-sdk\n",
      "Successfully installed facebook-sdk-3.1.0\n"
     ]
    }
   ],
   "source": [
    "!pip install facebook-sdk"
   ]
  },
  {
   "cell_type": "code",
   "execution_count": 8,
   "metadata": {
    "colab": {
     "base_uri": "https://localhost:8080/",
     "height": 87
    },
    "colab_type": "code",
    "executionInfo": {
     "elapsed": 1215,
     "status": "ok",
     "timestamp": 1589771134570,
     "user": {
      "displayName": "Đặng Nhân Cách - TT. DL&CNTT",
      "photoUrl": "",
      "userId": "16824149070900219040"
     },
     "user_tz": -420
    },
    "id": "DlFsYZSVSc_U",
    "outputId": "f05c7abf-0257-4a2e-ffe0-54e8fcb36bae"
   },
   "outputs": [
    {
     "name": "stdout",
     "output_type": "stream",
     "text": [
      "{\n",
      " \"name\": \"Nhan Cach Dang\",\n",
      " \"id\": \"2335026633216756\"\n",
      "}\n"
     ]
    }
   ],
   "source": [
    "import facebook # pip install facebook-sdk\n",
    "import json\n",
    "\n",
    "# A helper function to pretty-print Python objects as JSON\n",
    "def pp(o):\n",
    "    print(json.dumps(o, indent=1))\n",
    "\n",
    "# Create a connection to the Graph API with your access token\n",
    "g = facebook.GraphAPI(ACCESS_TOKEN, version='2.8')\n",
    "\n",
    "# Execute a few example queries:\n",
    "\n",
    "# Get my ID\n",
    "pp(g.get_object('me'))"
   ]
  },
  {
   "cell_type": "code",
   "execution_count": 10,
   "metadata": {
    "colab": {
     "base_uri": "https://localhost:8080/",
     "height": 1000
    },
    "colab_type": "code",
    "executionInfo": {
     "elapsed": 1200,
     "status": "ok",
     "timestamp": 1589771430507,
     "user": {
      "displayName": "Đặng Nhân Cách - TT. DL&CNTT",
      "photoUrl": "",
      "userId": "16824149070900219040"
     },
     "user_tz": -420
    },
    "id": "92zux9MoSc_a",
    "outputId": "a638f408-d0fc-42ed-9d89-c617deeb3ea6"
   },
   "outputs": [
    {
     "name": "stdout",
     "output_type": "stream",
     "text": [
      "{\n",
      " \"data\": [\n",
      "  {\n",
      "   \"created_time\": \"2020-04-17T11:17:16+0000\",\n",
      "   \"message\": \"R\\u1ea5t nhi\\u1ec1u m\\u00f3n \\u0111\\u1ec3 nh\\u00e2m nhi!\",\n",
      "   \"id\": \"112006990211889_235654067847180\"\n",
      "  },\n",
      "  {\n",
      "   \"created_time\": \"2020-04-15T03:26:33+0000\",\n",
      "   \"message\": \"C\\u00e1 l\\u00e0m s\\u1ea1ch cho kh\\u00e1ch\\nM\\u00fa B\\u1edbp 1.9kg\\nC\\u00e1 b\\u1edbp c\\u00e2u 6,2kg.\",\n",
      "   \"id\": \"112006990211889_233767964702457\"\n",
      "  },\n",
      "  {\n",
      "   \"created_time\": \"2020-04-13T23:53:24+0000\",\n",
      "   \"message\": \"H\\u00f4m nay \\u0103n g\\u00ec ta? \\n\\nL\\u00e0m c\\u00e1i n\\u00e0y \\u0111\\u1ec3 \\u0103n d\\u00e0i h\\u00fap v\\u1edbi Ch\\u00e1o\\ud83c\\udfcb\\ufe0f\",\n",
      "   \"id\": \"112006990211889_232841741461746\"\n",
      "  },\n",
      "  {\n",
      "   \"created_time\": \"2020-04-10T03:12:25+0000\",\n",
      "   \"message\": \"Tr\\u01b0a nay \\u0103n g\\u00ec? K\\u00ednh th\\u01b0a c\\u00e1c lo\\u1ea1i c\\u00e1.\\ud83d\\udc4d\",\n",
      "   \"id\": \"112006990211889_229783735100880\"\n",
      "  },\n",
      "  {\n",
      "   \"created_time\": \"2020-04-05T10:13:24+0000\",\n",
      "   \"message\": \"4\\ufe0f\\u20e39\\ufe0f\\u20e3k M\\u00d9A COVID\\n\\n\\ud83c\\udf31 Kh\\u00f4ng c\\u00f2n l\\u00e0 1 ph\\u1ea7n m\\u1ef3 cay bu\\u1ed5i t\\u1ed1i, t\\u00f4 h\\u1ee7 t\\u00edu bu\\u1ed5i s\\u00e1ng, t\\u00e1ch c\\u00e0 ph\\u00ea bao ch\\u1ea5t, c\\u1ed1c tr\\u00e0 s\\u1eefa bao t\\u00ea hay 1 v\\u00e9 coi phim l\\u00e3ng m\\u1ea1n ti\\u1ebft ki\\u1ec7m t\\u1ed1i th\\u1ee9 3 n\\u1eefa m\\u00e0 l\\u00e0 1 ph\\u1ea7n y\\u00eau th\\u01b0\\u01a1ng g\\u00f3i gh\\u00e9m M\\u1eb9 \\u0111\\u1ec3 trong ng\\u0103n ch\\u1ee9a th\\u1ee9c \\u0103n cho c\\u1ea3 nh\\u00e0, 1 n\\u1ed7i ni\\u1ec1m c\\u1ee7a Cha khi b\\u1ecb C\\u00f4 Vi \\u00e1m.\\n\\n\\ud83c\\udf31 Nh\\u1eefng ng\\u00e0y n\\u00e0y M\\u1eb9 thi\\u00ean nhi\\u00ean d\\u1ea1y cho con ng\\u01b0\\u1eddi b\\u00e0i h\\u1ecdc l\\u1edbn, m\\u1edbi th\\u1ea5y th\\u01b0\\u01a1ng th\\u00eam \\u0111\\u00f4i vai c\\u1ee7a M\\u1eb9.\\n\\n\\\"\\u0110\\ud835\\ude98\\u0302\\u0300\\ud835\\ude97\\ud835\\ude90 \\ud835\\ude90\\ud835\\ude8a\\u0323\\ud835\\ude98 \\u0111\\ud835\\ude98\\u0302\\u0300\\ud835\\ude97\\ud835\\ude90 \\ud835\\ude96\\ud835\\ude8a\\u0306\\u0301\\ud835\\ude96 \\u0111\\ud835\\ude98\\u0302\\u0300\\ud835\\ude97\\ud835\\ude90 \\ud835\\ude9d\\ud835\\ude9e\\u031b\\ud835\\ude98\\u031b\\ud835\\ude97\\ud835\\ude90.\\n\\u0110\\ud835\\ude98\\u0302\\u0300\\ud835\\ude97\\ud835\\ude90 \\ud835\\ude9d\\ud835\\ude98\\u0302\\ud835\\ude96 \\u0111\\ud835\\ude98\\u0302\\u0300\\ud835\\ude97\\ud835\\ude90 \\ud835\\ude8c\\ud835\\ude8a\\u0301 \\u0111\\ud835\\ude98\\u0302\\u0300\\ud835\\ude97\\ud835\\ude90 \\ud835\\ude95\\ud835\\ude9e\\u031b\\ud835\\ude98\\u031b\\ud835\\ude97\\ud835\\ude90 \\ud835\\ude97\\ud835\\ude91\\ud835\\ude8a\\u0300 \\ud835\\ude8c\\ud835\\ude98\\u0300\\ud835\\ude97\\\"\\n\\n\\ud83c\\udf31 Kh\\u00f4ng ch\\u1ec9 lo \\u0103n cho \\u0111\\u1ee7 no, m\\u00e0 M\\u1eb9 c\\u00f2n lo cho c\\u1ea3 nh\\u00e0 \\u0103n th\\u1ef1c ph\\u1ea9m t\\u01b0\\u01a1i, h\\u1ee3p kh\\u1ea9u v\\u1ecb v\\u00e0 \\u0111\\u1ed5i m\\u00f3n m\\u1ed7i ng\\u00e0y. \\n\\n\\ud83c\\udf31 \\u0110\\u1ec3 \\u0111\\u1ed3ng h\\u00e0nh c\\u00f9ng M\\u1eb9 m\\u00f9a Covid, \\ud835\\uddd6\\ud835\\uddfc\\u0300 \\ud835\\udde7\\ud835\\uddff\\ud835\\uddf2 \\ud835\\udde3\\ud835\\uddf5\\ud835\\ude02\\u0301 \\ud835\\udde4\\ud835\\ude02\\ud835\\ude06\\u0301 \\u0111\\u00e3 cho ra m\\u1eaft d\\u00f2ng s\\u1ea3n ph\\u1ea9m C\\u00e1 T\\u01b0\\u01a1i H\\u00e0ng Ng\\u00e0y v\\u1edbi nhi\\u1ec1u lo\\u1ea1i c\\u00e1 kh\\u00e1c nhau, \\u0111\\u01b0\\u1ee3c s\\u01a1 ch\\u1ebf s\\u1eb5n, giao t\\u1eadn B\\u1ebfp M\\u1eb9 N\\u1ea5u, ch\\u1ec9 \\u001dt\\u1eeb 49k, giao t\\u1eadn nh\\u00e0. Ng\\u1ea1i g\\u00ec kh\\u00f4ng t\\u00ecm hi\\u1ec3u.\\n\\n- C\\u00e1 t\\u01b0\\u01a1i m\\u1ed7i ng\\u00e0y. Gi\\u1ea3m g\\u1ea7y vai M\\u1eb9 -\\n---------------------\\n\\ud835\\uddd6\\ud835\\uddfc\\u0300 \\ud835\\udde7\\ud835\\uddff\\ud835\\uddf2 \\ud835\\udde3\\ud835\\uddf5\\ud835\\ude02\\u0301 \\ud835\\udde4\\ud835\\ude02\\ud835\\ude06\\u0301 - Chuy\\u00ean cung c\\u1ea5p h\\u1ea3i s\\u1ea3n v\\u00e0 c\\u00e1c s\\u1ea3n ph\\u1ea9m ch\\u1ebf bi\\u1ebfn t\\u1eeb h\\u1ea3i s\\u1ea3n t\\u01b0\\u01a1i, xu\\u1ea5t x\\u1ee9 t\\u1eeb \\u0111\\u1ea3o Ph\\u00fa Qu\\u00fd.\\n\\ud83d\\udc4d Giao h\\u00e0ng t\\u1eadn nh\\u00e0 t\\u1ea1i Phan Thi\\u1ebft v\\u00e0 Tp.HCM\\n\\ud83d\\udc4d Gi\\u00e1 c\\u1ea3 h\\u1ee3p l\\u00ed\\n\\ud83d\\udc4d Ch\\u1ea5t l\\u01b0\\u1ee3ng \\u0111\\u1ea3m b\\u1ea3o\\n\\u26a1\\ufe0fTham kh\\u1ea3o c\\u00e1c s\\u1ea3n ph\\u1ea9m t\\u1ea1i www.cotrephuquy.com/\\n\\ud83c\\udf10 Fanpage ch\\u00ednh th\\u1ee9c: facebook.com/haisanphuquycotre\\n\\u260e\\ufe0f Hotline: 0398.000.007\\n\\n#Review_kh\\u00e1ch_h\\u00e0ng #C\\u00f2_Tre_Ph\\u00fa_Qu\\u00fd\\n#H\\u1ea3i_s\\u1ea3n_Ph\\u00fa_Qu\\u00fd #H\\u1ea3i_s\\u1ea3n_t\\u01b0\\u01a1i_S\\u00e0i_G\\u00f2n\\n#Cua_Hu\\u1ef3nh_\\u0110\\u1ebf #M\\u1ef1c_t\\u01b0\\u01a1i #Ch\\u1ea3_c\\u00e1 #Kh\\u00f4_c\\u00e1 #C\\u00e1_t\\u01b0\\u01a1i\",\n",
      "   \"id\": \"112006990211889_226078508804736\"\n",
      "  },\n",
      "  {\n",
      "   \"created_time\": \"2020-04-02T09:05:15+0000\",\n",
      "   \"message\": \"Em ch\\u1ec9 \\u0103n h\\u00e0ng d\\u1ea1t th\\u00f4i \\ud83e\\udd24\\ud83e\\udd24\\n\\u0110\\u1eb9p ph\\u1ea3i \\u0111\\u1ec3 cho kh\\u00e1ch r\\u1ed3i. \\ud83e\\udd91\\ud83e\\udd91\\ud83e\\udd91\",\n",
      "   \"id\": \"112006990211889_223799795699274\"\n",
      "  },\n",
      "  {\n",
      "   \"created_time\": \"2020-03-29T03:56:36+0000\",\n",
      "   \"message\": \"\\ud83c\\udf08\\ud83c\\udf08Coi D\\u1ecbch l\\u00e0 \\u0110\\u1ecbch th\\u00ec chu\\u1ea9n b\\u1ecb b\\u1ecbch\\u2693\\u2693\\u2693\\n\\ud83e\\udd33\\ud83e\\udd33\\ud83e\\udd330973166966\",\n",
      "   \"id\": \"112006990211889_220368059375781\"\n",
      "  },\n",
      "  {\n",
      "   \"created_time\": \"2020-03-28T01:33:13+0000\",\n",
      "   \"message\": \"L\\u00c1 CH\\u1eaeN TH\\u00c9P! \\ud83e\\udd91\\ud83e\\udd91\\ud83e\\udd91 \\u0102n \\u0111\\u1ec3 ch\\u1eafn cho C\\u00f4 Vy!\",\n",
      "   \"id\": \"112006990211889_219458126133441\"\n",
      "  },\n",
      "  {\n",
      "   \"created_time\": \"2020-03-24T02:19:47+0000\",\n",
      "   \"message\": \"\\u2693\\u2693\\u2693Nh\\u00ecn \\u0111\\u1eafm \\u0111u\\u1ed1i \\ud83c\\udf72\\ud83c\\udf72\\ud83c\\udf72\",\n",
      "   \"id\": \"112006990211889_216099639802623\"\n",
      "  },\n",
      "  {\n",
      "   \"created_time\": \"2020-03-23T08:00:48+0000\",\n",
      "   \"message\": \"Ca Ngon! N\\u1ea5u g\\u00ec C\\u0169ng Ngon\\ud83d\\ude0b\\ud83d\\ude0b\\ud83d\\ude0b\\n\\ud83e\\udd33\\ud83e\\udd33\\ud83e\\udd33 0973.166.966 - 0398.000.007\",\n",
      "   \"id\": \"112006990211889_215446619867925\"\n",
      "  },\n",
      "  {\n",
      "   \"created_time\": \"2020-03-20T08:54:22+0000\",\n",
      "   \"message\": \"Em kh\\u00f4ng c\\u1ea7n lo \\u0111\\u00f3i \\ud83e\\udd29\\ud83e\\udd29\\ud83e\\udd29\",\n",
      "   \"id\": \"112006990211889_212867723459148\"\n",
      "  },\n",
      "  {\n",
      "   \"created_time\": \"2020-03-20T01:06:05+0000\",\n",
      "   \"message\": \"H\\u00e0ng \\u0111\\u1eb7t tr\\u01b0\\u1edbc nha A/c\\nT\\u00f4m \\u0111i l\\u1eb7n v\\u1ec1, kh\\u00f4ng ph\\u1ea3i t\\u00f4m nu\\u00f4i.\\n\\ud83e\\udd33\\ud83e\\udd33\\ud83e\\udd33 0973.166.966\",\n",
      "   \"id\": \"112006990211889_212653496813904\"\n",
      "  },\n",
      "  {\n",
      "   \"created_time\": \"2020-03-19T08:23:01+0000\",\n",
      "   \"message\": \"H\\u1ed3ng Chu\\u1ed1i \\u0103n \\u0111\\u1eafm \\u0111u\\u1ed1i lu\\u00f4n\\ud83d\\udc4d\\ud83d\\udc4d\",\n",
      "   \"id\": \"112006990211889_212073150205272\"\n",
      "  },\n",
      "  {\n",
      "   \"created_time\": \"2020-03-19T01:23:54+0000\",\n",
      "   \"message\": \"Good morning!!! \\ud83d\\udc4d\\ud83d\\udc4d\\ud83d\\udc4d \\nCafe Th\\u00f4i!\",\n",
      "   \"id\": \"112006990211889_211855213560399\"\n",
      "  },\n",
      "  {\n",
      "   \"created_time\": \"2020-03-18T08:11:00+0000\",\n",
      "   \"message\": \"M\\u00fa L\\u00f3ng m\\u1edbi v\\u1ec1, c\\u00f3 ai h\\u00f3ng kh\\u00f4ng? \\n\\ud83e\\udd33\\ud83e\\udd33\\ud83e\\udd33 0973.166.966- 0398000007\",\n",
      "   \"id\": \"112006990211889_211281203617800\"\n",
      "  },\n",
      "  {\n",
      "   \"created_time\": \"2020-03-15T16:08:01+0000\",\n",
      "   \"message\": \"\\u0110\\u1ed2NG DAO COVID \\ud83d\\ude1b\\ud83d\\ude1b\\ud83d\\ude1b\\n\\nCona Covid \\n\\u1ede t\\u00edt b\\u00ean T\\u1ea7u\\nM\\u00e0y qua tr\\u1eddi \\u00c2u\\nM\\u00e0y v\\u1ec1 n\\u01b0\\u1edbc Vi\\u1ec7t\\nM\\u00e0y \\u0111\\u1ed3 ch\\u1ebft ti\\u1ec7t !\\nTao ch\\u1eb3ng s\\u1ee3 m\\u00e0y\\nTao v\\u1eabn th\\u1ee9c ng\\u00e0y\\nTao v\\u1eabn ng\\u1ee7 \\u0111\\u00eam\\n(t\\u00f3c tao b\\u1ea1c th\\u00eam\\nt\\u1ea1i v\\u00ec s\\u01b0\\u01a1ng gi\\u00f3)\\nGh\\u00e9t m\\u00e0y nh\\u01b0 ch\\u00f3\\nCh\\u00e1n c\\u00e1i m\\u1eb7t m\\u00e0y\\nH\\u1ec5 c\\u1ee9 l\\u00ean ph\\u00e2y\\nTh\\u1ea5y m\\u00e0y nhan nh\\u1ea3n\\nL\\u01b0\\u1edbt xem b\\u00e1o \\u0110\\u1ea3ng\\nM\\u00e0y chi\\u1ebfm trang \\u0111\\u1ea7u\\n\\u0110\\u1ecdc b\\u00e1o ch\\u00e2u \\u00c2u\\nTh\\u1ea5y m\\u00e0y trang nh\\u1ea5t\\nTivi th\\u01b0\\u1eddng nh\\u1eadt\\nTo\\u00e0n r\\u00e9o t\\u00ean m\\u00e0y\\nChuy\\u1ec7n \\u0111\\u00eam chuy\\u1ec7n ng\\u00e0y\\nT\\u00ean m\\u00e0y h\\u00f3t nh\\u1ea5t\\n\\u0110au l\\u00f2ng n\\u01b0\\u1edbc Nh\\u1eadt\\nV\\u1ee1 m\\u1eadt n\\u01b0\\u1edbc H\\u00e0n\\nN\\u01b0\\u1edbc \\u00dd \\u0111i\\u00eau t\\u00e0n\\nIran nguy kh\\u1ed1n\\nT\\u1eeb Hoa Th\\u1ecbnh \\u0110\\u1ed1n\\nT\\u1edbi M\\u1ea1c T\\u01b0 Khoa\\nT\\u1eeb T\\u00e2y ban nha\\nQua Anh qua Ph\\u00e1p\\nQua \\u0110\\u1ee9c, Balan\\nM\\u00e0y sang Th\\u1ee5y s\\u0129\\nM\\u00e0y v\\u1ec1 Nam M\\u1ef9\\n\\u0110\\u1ebfn c\\u1ea3 \\u00dac ch\\u00e2u...\\nM\\u00e0y \\u0111i \\u0111\\u1ebfn \\u0111\\u00e2u\\nL\\u00e0 toang \\u0111\\u1ebfn \\u0111\\u00f3\\nNh\\u01b0ng tao n\\u00f3i nh\\u1ecf :\\nM\\u00e0y \\u0111\\u1ebfn Vi\\u1ec7t nam\\nG\\u1eb7p \\u00f4ng \\u0110\\u1ee9c \\u0110am\\n\\u0110\\u00e3 n\\u00f3i l\\u00e0 l\\u00e0m\\nL\\u00e0 m\\u00e0y t\\u1edbi s\\u1ed1 !\\n\\u00d4ng \\u1ea5y tuy\\u00ean b\\u1ed1:\\nTo\\u00e0n d\\u00e2n ch\\u1ed1ng m\\u00e0y !\\nH\\u1ea1n ch\\u1ebf \\u0111i t\\u00e2y\\nD\\u1eb9p ngay l\\u1ec5 h\\u1ed9i\\nC\\u01b0\\u1edbi xin \\u0111\\u1eebng v\\u1ed9i\\nCh\\u1ecbu kh\\u00f3 \\u1edf nh\\u00e0\\nRi\\u00eang tao c\\u00e1c v\\u00e0ng \\nC\\u0169ng kh\\u00f4ng sang \\u00dd\\nD\\u01b0 ti\\u1ec1n m\\u1ed9t t\\u00fd\\nC\\u0169ng ch\\u1ea3 sang Anh\\nNhi\\u1ec1u s\\u1ea3 nhi\\u1ec1u chanh\\nKh\\u00f4ng sang H\\u00e0n qu\\u1ed1c\\nTao tuy\\u00ean b\\u1ed1 tr\\u01b0\\u1edbc:\\n\\u0110\\u1eebng c\\u00e0 kh\\u1ecba tao!\\nTao ch\\u1eb3ng c\\u1ea7n dao\\nCh\\u1eb3ng c\\u1ea7n s\\u00fang \\u0111\\u1ea1n\\nTao u\\u1ed1ng r\\u01b0\\u1ee3u m\\u1ea1nh \\nCho m\\u00e0y ch\\u1ebft say\\nTao n\\u0103ng r\\u1eeda tay\\nCho m\\u00e0y ch\\u1ebft s\\u1eb7c\\nCoi m\\u00e0y nh\\u01b0 gi\\u1eb7c\\nTao ch\\u1ed1ng \\u0111\\u1ebfn c\\u00f9ng ! \\nT\\u00f9ng ! T\\u00f9ng T\\u00f9ng \\ud83e\\udd41\\ud83e\\udd41\\ud83e\\udd41\\n\\n-S\\u01b0u t\\u1ea7m-\",\n",
      "   \"id\": \"112006990211889_208969430515644\"\n",
      "  },\n",
      "  {\n",
      "   \"created_time\": \"2020-03-15T10:38:17+0000\",\n",
      "   \"message\": \"\\ud83d\\ude18 \\u0102n cua Hu\\u1ef3nh \\u0110\\u1ebf nh\\u01b0 th\\u1ebf n\\u00e0o cho \\u0111\\u00fang?\\ud83d\\ude18\\n----------------------------------------\\n\\ud835\\uddd6\\ud835\\uddfc\\u0300 \\ud835\\ude01\\ud835\\uddff\\ud835\\uddf2 - Chuy\\u00ean cung c\\u1ea5p h\\u1ea3i s\\u1ea3n v\\u00e0 c\\u00e1c s\\u1ea3n ph\\u1ea9m ch\\u1ebf bi\\u1ebfn t\\u1eeb h\\u1ea3i s\\u1ea3n t\\u01b0\\u01a1i, xu\\u1ea5t x\\u1ee9 t\\u1eeb \\u0111\\u1ea3o Ph\\u00fa Qu\\u00fd.\\n\\ud83d\\udc4d Giao h\\u00e0ng t\\u1eadn nh\\u00e0 t\\u1ea1i Phan Thi\\u1ebft v\\u00e0 Tp.HCM\\n\\ud83d\\udc4d Gi\\u00e1 c\\u1ea3 h\\u1ee3p l\\u00ed\\n\\ud83d\\udc4d Ch\\u1ea5t l\\u01b0\\u1ee3ng \\u0111\\u1ea3m b\\u1ea3o\\n\\n\\u26a1\\ufe0fTham kh\\u1ea3o c\\u00e1c s\\u1ea3n ph\\u1ea9m t\\u1ea1i fb.com/chuyenhaisanphuquy/shop/\\n\\ud83d\\udcea \\u0110\\u1ecba ch\\u1ec9: Th\\u00f4n Xu\\u00e2n Ho\\u00e0, x\\u00e3 Phong N\\u1eabm, Phan Thi\\u1ebft, BT\\n\\u260e\\ufe0f Hotline: 0398.000.007\\n\\n#Review_Ph\\u00fa_Qu\\u00fd #Cotre\\n#H\\u1ea3i_s\\u1ea3n_Ph\\u00fa_Qu\\u00fd #H\\u1ea3i_s\\u1ea3n_t\\u01b0\\u01a1i_S\\u00e0i_G\\u00f2n\\n#Cua_Hu\\u1ef3nh_\\u0110\\u1ebf #M\\u1ef1c_t\\u01b0\\u01a1i #Ch\\u1ea3_c\\u00e1 #Kh\\u00f4_c\\u00e1\",\n",
      "   \"id\": \"112006990211889_208770437202210\"\n",
      "  },\n",
      "  {\n",
      "   \"created_time\": \"2020-03-13T02:01:19+0000\",\n",
      "   \"message\": \"M\\u1ea5y \\u1ebbm n\\u1eb1m ng\\u1eeda h\\u1ebft r\\u1ed3i? \\ud83e\\udd2b\\ud83e\\udd2b\\ud83e\\udd2b\\ud83e\\udd14\\nL\\u00e0m sao ta?\",\n",
      "   \"id\": \"112006990211889_206934204052500\"\n",
      "  },\n",
      "  {\n",
      "   \"created_time\": \"2020-03-13T01:22:31+0000\",\n",
      "   \"message\": \"\\ud83d\\udc41\\ufe0f\\ud83d\\udc41\\ufe0fGi\\u1ea3i c\\u1ee9u Cua Hu\\u1ef3nh \\u0111\\u1ebf l\\u00e0 c\\u00f3 th\\u1eadt nha b\\u00e0 con.\\n\\ud83c\\udf0a\\ud83c\\udf0a Ch\\u01b0a bao gi\\u1edd Hu\\u1ef3nh \\u0110\\u1ebf r\\u1ebb nh\\u01b0 th\\u1ebf\\ud83e\\udd33\\ud83e\\udd33\\ud83e\\udd33\\n\\ud83e\\udd33Aloooo 0973.166.966\",\n",
      "   \"id\": \"112006990211889_206913040721283\"\n",
      "  },\n",
      "  {\n",
      "   \"created_time\": \"2020-03-12T02:49:09+0000\",\n",
      "   \"message\": \"V\\u1ec1 ti\\u1ebfp 5 con n\\u1eefa. \\n\\ud83e\\udd33\\ud83e\\udd33\\ud83e\\udd330973.166.966 ship nha Anh Ch\\u1ecb.\",\n",
      "   \"id\": \"112006990211889_206173437461910\"\n",
      "  },\n",
      "  {\n",
      "   \"created_time\": \"2020-03-11T23:50:24+0000\",\n",
      "   \"message\": \"\\ud83c\\udf08\\ud83c\\udf08\\ud83c\\udf08 C\\u00e1 m\\u1edbi v\\u1ec1 s\\u00e1ng nay.\\u2693\\u2693\\u2693\\n1 Con 10,7Kg\\n1 Con 16,3 kg\\n1 Con  21,6 Kg\\nM\\u1ecdi ng\\u01b0\\u1eddi \\u0111\\u1eb7t g\\u1ea1ch, \\u0111\\u1eb7t \\u0111\\u00e1 \\ud83e\\udd33\\ud83e\\udd33\\ud83e\\udd33\\ud83e\\udd33\\n\\ud83e\\udd330973.166.966\",\n",
      "   \"id\": \"112006990211889_206058330806754\"\n",
      "  },\n",
      "  {\n",
      "   \"created_time\": \"2020-03-10T23:20:28+0000\",\n",
      "   \"message\": \"\\ud83c\\udf0a\\ud83c\\udf0a\\ud83c\\udf0a \\u1ede nh\\u00e0 c\\u0169ng c\\u00f3 \\u0111\\u1ee7 m\\u1ed3i nh\\u1eadu, th\\u00ec c\\u1ea7n chi la c\\u00e0 qu\\u00e1n x\\u00e1.\\n\\ud83e\\udd33\\ud83e\\udd33\\ud83e\\udd33Alooo 0973.166.966\",\n",
      "   \"id\": \"112006990211889_205236660888921\"\n",
      "  },\n",
      "  {\n",
      "   \"created_time\": \"2020-03-10T05:30:02+0000\",\n",
      "   \"message\": \"Kh\\u00f4ng c\\u1ea7n ra kh\\u1ecfi nh\\u00e0, m\\u00e0 c\\u00f3 ng\\u01b0\\u1eddi \\u0111\\u01b0a c\\u00e1 n\\u00e0y t\\u1edbi th\\u00ec sao ta? \\nAlooo 0973.166.966 \\n\\n#haisanmuadich\\n#cotre\",\n",
      "   \"id\": \"112006990211889_204533997625854\"\n",
      "  },\n",
      "  {\n",
      "   \"created_time\": \"2020-03-04T08:55:35+0000\",\n",
      "   \"message\": \"\\ud83d\\udc20\\ud83d\\udc20\\ud83d\\udc20C\\u00e1 H\\u1ed3ng 11Kg 250k/kg c\\u00f2n ch\\u1ec9 c\\u00f2n 5kg.\\n\\nNote:  \\u0110\\u00e3 H\\u1ebft c\\u00e1. Thanks\",\n",
      "   \"id\": \"112006990211889_199824238096830\"\n",
      "  },\n",
      "  {\n",
      "   \"created_time\": \"2020-02-16T04:32:18+0000\",\n",
      "   \"message\": \"N\\u00f3i sao ta? \\ud83e\\udd14\\ud83e\\udd14\\ud83e\\udd14\\ud83e\\udd14\\ud83e\\udd14\\n\\ud83c\\udf7e\\ud83c\\udf7e\\ud83c\\udf7e\\ud83c\\udf7e\\ud83e\\udd43\\ud83e\\udd43\\ud83e\\udd43\\ud83e\\udd43\\ud83e\\udd43\\ud83e\\udd43\",\n",
      "   \"id\": \"112006990211889_185487376197183\"\n",
      "  }\n",
      " ],\n",
      " \"paging\": {\n",
      "  \"cursors\": {\n",
      "   \"before\": \"QVFIUmVLeUdIUFI1WGI1LTAyZAkZAvbUtQdUttSGhpLXhHcFlnRGZA3M2o3SjZA5Q2hDd2NSSkdWYjVIVDExcTRDSkI0eDZAaRkwxSVd2bFBwcDBqbWxITFRGSmQ0VE5hSUVCN2M1ODZAoVVFnMUozYmVsRVp6OE1hVHdCSFZAOdUkyOGZAxZAjZAw\",\n",
      "   \"after\": \"QVFIUkl3QzdmQzMxSlVFY1BVSURzVk5fZAWVxREduWFJuLWRmLU5hU1lJdlludUJfVUF5aXFHRXFGalpIWDVoRk5SRHhZAWi1zaW4wRU1OMWpPSklRWjBvU2Myanc4ZAVFqS3pVUkU2TVlEWmZALcExHLVBad3ZAmM3l5ZAWRUY2luTUJmNjJo\"\n",
      "  },\n",
      "  \"next\": \"https://graph.facebook.com/v7.0/112006990211889/feed?access_token=EAAMP7rNwJ28BABUFekVviZCNCYv2joidTB4AbGXYUFSZCEyYGKZANwzrXHPFyaZBgn0DVZCNnTQKxMZBZCILmEaopbZA8qGGZCZBknL71WZAQIxemHf0VYhwsiJCLZCAmFcWuhvZAdJAPUKqCCNfGhYBBQv2gDr9un1EEmh6Gxq7sLklb5mZBEBqbRZAyXSuDOSU7GKX7ZCqY2pH5bXeoxXNzUMGyZAK947bq2h2gJDU6rcwrktYxvAZDZD&limit=25&after=QVFIUkl3QzdmQzMxSlVFY1BVSURzVk5fZAWVxREduWFJuLWRmLU5hU1lJdlludUJfVUF5aXFHRXFGalpIWDVoRk5SRHhZAWi1zaW4wRU1OMWpPSklRWjBvU2Myanc4ZAVFqS3pVUkU2TVlEWmZALcExHLVBad3ZAmM3l5ZAWRUY2luTUJmNjJo\"\n",
      " }\n",
      "}\n"
     ]
    }
   ],
   "source": [
    "# Get the connections to an ID\n",
    "# Example connection names: 'feed', 'likes', 'groups', 'posts'\n",
    "pp(g.get_connections(id='112006990211889', connection_name='feed'))"
   ]
  },
  {
   "cell_type": "code",
   "execution_count": 11,
   "metadata": {
    "colab": {
     "base_uri": "https://localhost:8080/",
     "height": 1000
    },
    "colab_type": "code",
    "executionInfo": {
     "elapsed": 1147,
     "status": "ok",
     "timestamp": 1589771463982,
     "user": {
      "displayName": "Đặng Nhân Cách - TT. DL&CNTT",
      "photoUrl": "",
      "userId": "16824149070900219040"
     },
     "user_tz": -420
    },
    "id": "Ncc8Al1wSc_e",
    "outputId": "07dbf5a0-62af-428a-919d-390462a19b82"
   },
   "outputs": [
    {
     "name": "stdout",
     "output_type": "stream",
     "text": [
      "{\n",
      " \"data\": [\n",
      "  {\n",
      "   \"name\": \"Amnat Charoen, Thailand\",\n",
      "   \"location\": {\n",
      "    \"latitude\": 15.9014,\n",
      "    \"longitude\": 104.623\n",
      "   },\n",
      "   \"id\": \"1437814279792576\"\n",
      "  },\n",
      "  {\n",
      "   \"name\": \"\\u0e1a\\u0e49\\u0e32\\u0e19\\u0e19\\u0e49\\u0e2d\\u0e22\\u0e2b\\u0e34\\u0e19\\u0e40\\u0e01\\u0e34\\u0e49\\u0e07 \\u0e04\\u0e33\\u0e42\\u0e1e\\u0e19 \\u0e1b\\u0e17\\u0e38\\u0e21\\u0e23\\u0e32\\u0e0a\\u0e27\\u0e07\\u0e28\\u0e32 \\u0e2d\\u0e33\\u0e19\\u0e32\\u0e08\\u0e40\\u0e08\\u0e23\\u0e34\\u0e0d\",\n",
      "   \"location\": {\n",
      "    \"city\": \"Amnat Charoen\",\n",
      "    \"country\": \"Thailand\",\n",
      "    \"latitude\": 15.978922672832,\n",
      "    \"longitude\": 104.95098017773,\n",
      "    \"zip\": \"37110\"\n",
      "   },\n",
      "   \"id\": \"1510426995877811\"\n",
      "  },\n",
      "  {\n",
      "   \"name\": \"\\u0e1a\\u0e49\\u0e32\\u0e19\\u0e04\\u0e33\\u0e42\\u0e1e\\u0e19 \\u0e2d.\\u0e1b\\u0e17\\u0e38\\u0e21\\u0e23\\u0e32\\u0e0a \\u0e08.\\u0e2d\\u0e33\\u0e19\\u0e32\\u0e08\\u0e40\\u0e08\\u0e23\\u0e34\\u0e0d\",\n",
      "   \"location\": {\n",
      "    \"city\": \"Ban Na Wa\",\n",
      "    \"country\": \"Thailand\",\n",
      "    \"latitude\": 15.959939615371,\n",
      "    \"longitude\": 104.9551658966\n",
      "   },\n",
      "   \"id\": \"108427324154943\"\n",
      "  },\n",
      "  {\n",
      "   \"name\": \"\\u0e28\\u0e39\\u0e19\\u0e22\\u0e4c\\u0e01\\u0e32\\u0e23\\u0e40\\u0e23\\u0e35\\u0e22\\u0e19\\u0e15\\u0e33\\u0e23\\u0e27\\u0e08\\u0e15\\u0e23\\u0e30\\u0e40\\u0e27\\u0e19\\u0e0a\\u0e32\\u0e22\\u0e41\\u0e14\\u0e19\\u0e1a\\u0e49\\u0e32\\u0e19\\u0e20\\u0e39\\u0e14\\u0e32\\u0e19\\u0e01\\u0e2d\\u0e22\",\n",
      "   \"location\": {\n",
      "    \"city\": \"Ban Na Wa\",\n",
      "    \"country\": \"Thailand\",\n",
      "    \"latitude\": 15.996229402244,\n",
      "    \"longitude\": 104.97409245487,\n",
      "    \"zip\": \"37110\"\n",
      "   },\n",
      "   \"id\": \"569097513193424\"\n",
      "  },\n",
      "  {\n",
      "   \"name\": \"Th\\u00e1i Lan\",\n",
      "   \"location\": {\n",
      "    \"latitude\": 15,\n",
      "    \"longitude\": 101\n",
      "   },\n",
      "   \"id\": \"290065327679864\"\n",
      "  },\n",
      "  {\n",
      "   \"name\": \"\\u0e04\\u0e33\\u0e42\\u0e1e\\u0e19\",\n",
      "   \"location\": {\n",
      "    \"city\": \"Amnat Charoen\",\n",
      "    \"country\": \"Thailand\",\n",
      "    \"latitude\": 15.98413,\n",
      "    \"longitude\": 104.94948,\n",
      "    \"zip\": \"37110\"\n",
      "   },\n",
      "   \"id\": \"437378009930874\"\n",
      "  },\n",
      "  {\n",
      "   \"name\": \"@ \\u0e1a\\u0e49\\u0e32\\u0e19\\u0e04\\u0e33\\u0e42\\u0e1e\\u0e19 \\u0e0b\\u0e34\\u0e15\\u0e35\\u0e49\",\n",
      "   \"location\": {\n",
      "    \"latitude\": 15.959944416095,\n",
      "    \"longitude\": 104.96045170007\n",
      "   },\n",
      "   \"id\": \"255602761157665\"\n",
      "  },\n",
      "  {\n",
      "   \"name\": \"\\u0e2b\\u0e21\\u0e39\\u0e48\\u0e1a\\u0e49\\u0e32\\u0e19\\u0e1b\\u0e48\\u0e07\\u0e04\\u0e2d\\u0e21 \\u0e15.\\u0e2b\\u0e19\\u0e2d\\u0e07\\u0e2a\\u0e34\\u0e21 \\u0e2d.\\u0e40\\u0e02\\u0e21\\u0e23\\u0e32\\u0e10 \\u0e08\\u0e31\\u0e07\\u0e2b\\u0e27\\u0e31\\u0e14\\u0e2d\\u0e38\\u0e1a\\u0e25\\u0e23\\u0e32\\u0e0a\\u0e18\\u0e32\\u0e19\\u0e35\",\n",
      "   \"location\": {\n",
      "    \"city\": \"Amphoe Khemmarat\",\n",
      "    \"country\": \"Thailand\",\n",
      "    \"latitude\": 16.018484460032,\n",
      "    \"longitude\": 105.01164107444\n",
      "   },\n",
      "   \"id\": \"594616507251025\"\n",
      "  },\n",
      "  {\n",
      "   \"name\": \"Ubon Ratchathani, Thailand\",\n",
      "   \"location\": {\n",
      "    \"latitude\": 15.2308309537,\n",
      "    \"longitude\": 104.871302337\n",
      "   },\n",
      "   \"id\": \"275504749175535\"\n",
      "  },\n",
      "  {\n",
      "   \"name\": \"\\u0e1a\\u0e49\\u0e32\\u0e19\\u0e19\\u0e34\\u0e04\\u0e21 \\u0e15.\\u0e04\\u0e33\\u0e42\\u0e1e\\u0e19 \\u0e2d.\\u0e1b\\u0e17\\u0e38\\u0e21\\u0e23\\u0e32\\u0e0a\\u0e27\\u0e07\\u0e28\\u0e32\",\n",
      "   \"location\": {\n",
      "    \"city\": \"Kut Khaopun\",\n",
      "    \"country\": \"Thailand\",\n",
      "    \"latitude\": 15.985877782934,\n",
      "    \"longitude\": 105.01273155212\n",
      "   },\n",
      "   \"id\": \"1317711091671325\"\n",
      "  },\n",
      "  {\n",
      "   \"name\": \"\\u0e1a\\u0e49\\u0e32\\u0e19\\u0e20\\u0e39\\u0e14\\u0e32\\u0e19\\u0e01\\u0e2d\\u0e22\",\n",
      "   \"location\": {\n",
      "    \"latitude\": 15.99895,\n",
      "    \"longitude\": 104.97468\n",
      "   },\n",
      "   \"id\": \"278206729015858\"\n",
      "  },\n",
      "  {\n",
      "   \"name\": \"\\u0e1a\\u0e49\\u0e32\\u0e19\\u0e2a\\u0e32\\u0e21\\u0e41\\u0e22\\u0e01 \\u0e15\\u0e33\\u0e1a\\u0e25\\u0e04\\u0e33\\u0e42\\u0e1e\\u0e19 \\u0e2d\\u0e33\\u0e40\\u0e20\\u0e2d\\u0e1b\\u0e17\\u0e38\\u0e21\\u0e23\\u0e32\\u0e0a\\u0e27\\u0e07\\u0e28\\u0e32\",\n",
      "   \"location\": {\n",
      "    \"city\": \"Ban Na Wa\",\n",
      "    \"country\": \"Thailand\",\n",
      "    \"latitude\": 15.934069922478,\n",
      "    \"longitude\": 104.97120625012,\n",
      "    \"zip\": \"37110\"\n",
      "   },\n",
      "   \"id\": \"457525367713498\"\n",
      "  },\n",
      "  {\n",
      "   \"name\": \"\\u0e1a\\u0e49\\u0e32\\u0e19\\u0e2b\\u0e19\\u0e2d\\u0e07\\u0e1c\\u0e37\\u0e2d \\u0e2d\\u0e33\\u0e40\\u0e20\\u0e2d\\u0e40\\u0e02\\u0e21\\u0e23\\u0e32\\u0e10 \\u0e08\\u0e31\\u0e07\\u0e2b\\u0e27\\u0e31\\u0e14\\u0e2d\\u0e38\\u0e1a\\u0e25\\u0e2f\",\n",
      "   \"location\": {\n",
      "    \"city\": \"Amphoe Khemmarat\",\n",
      "    \"country\": \"Thailand\",\n",
      "    \"latitude\": 15.981794,\n",
      "    \"longitude\": 105.0308597\n",
      "   },\n",
      "   \"id\": \"397531840847197\"\n",
      "  },\n",
      "  {\n",
      "   \"name\": \"\\u0e1a\\u0e49\\u0e32\\u0e19\\u0e2b\\u0e19\\u0e2d\\u0e07\\u0e41\\u0e1d\\u0e01 \\u0e0b\\u0e34\\u0e15\\u0e35\\u0e49\",\n",
      "   \"location\": {\n",
      "    \"city\": \"Amphoe Khemmarat\",\n",
      "    \"country\": \"Thailand\",\n",
      "    \"latitude\": 15.99766333,\n",
      "    \"longitude\": 105.07\n",
      "   },\n",
      "   \"id\": \"101977821227174\"\n",
      "  },\n",
      "  {\n",
      "   \"name\": \"\\u0e1a\\u0e49\\u0e32\\u0e19\\u0e2b\\u0e34\\u0e19\\u0e01\\u0e2d\\u0e07 \\u0e2d.\\u0e0a\\u0e32\\u0e19\\u0e38\\u0e21\\u0e32\\u0e19 \\u0e08.\\u0e2d\\u0e33\\u0e19\\u0e32\\u0e08\\u0e40\\u0e08\\u0e23\\u0e34\\u0e0d\",\n",
      "   \"location\": {\n",
      "    \"city\": \"Ban Naphongtiou\",\n",
      "    \"country\": \"Laos\",\n",
      "    \"latitude\": 16.0941071,\n",
      "    \"longitude\": 104.9539327,\n",
      "    \"street\": \"\\u0e1a\\u0e49\\u0e32\\u0e19\\u0e2b\\u0e34\\u0e19\\u0e01\\u0e2d\\u0e07 \\u0e2d.\\u0e0a\\u0e32\\u0e19\\u0e38\\u0e21\\u0e32\\u0e19 \\u0e08.\\u0e2d\\u0e33\\u0e19\\u0e32\\u0e08\\u0e40\\u0e08\\u0e23\\u0e34\\u0e0d\",\n",
      "    \"zip\": \"37210\"\n",
      "   },\n",
      "   \"id\": \"293829067712771\"\n",
      "  },\n",
      "  {\n",
      "   \"name\": \"\\u0e1a\\u0e49\\u0e32\\u0e19\\u0e18\\u0e32\\u0e23\\u0e28\\u0e34\\u0e25\\u0e32\",\n",
      "   \"location\": {\n",
      "    \"city\": \"Amnat Charoen\",\n",
      "    \"country\": \"Thailand\",\n",
      "    \"latitude\": 15.98268,\n",
      "    \"longitude\": 104.95035,\n",
      "    \"zip\": \"37110\"\n",
      "   },\n",
      "   \"id\": \"797978680375986\"\n",
      "  },\n",
      "  {\n",
      "   \"name\": \"\\u0e1a\\u0e49\\u0e32\\u0e19\\u0e1e\\u0e19\\u0e21\\u0e14\\u0e35\",\n",
      "   \"location\": {\n",
      "    \"city\": \"Amphoe Khemmarat\",\n",
      "    \"country\": \"Thailand\",\n",
      "    \"latitude\": 15.9766379,\n",
      "    \"longitude\": 105.0285619,\n",
      "    \"street\": \"\\u0e40\\u0e02\\u0e21\\u0e23\\u0e32\\u0e10\",\n",
      "    \"zip\": \"34170\"\n",
      "   },\n",
      "   \"id\": \"630206276998062\"\n",
      "  },\n",
      "  {\n",
      "   \"name\": \"\\u0e1a\\u0e49\\u0e32\\u0e19\\u0e2b\\u0e19\\u0e2d\\u0e07\\u0e1c\\u0e37\\u0e2d \\u0e2d.\\u0e40\\u0e02\\u0e21\\u0e23\\u0e32\\u0e10\",\n",
      "   \"location\": {\n",
      "    \"city\": \"Amphoe Khemmarat\",\n",
      "    \"country\": \"Thailand\",\n",
      "    \"latitude\": 15.978617104248,\n",
      "    \"longitude\": 105.03177914161,\n",
      "    \"zip\": \"34170\"\n",
      "   },\n",
      "   \"id\": \"264070960304213\"\n",
      "  },\n",
      "  {\n",
      "   \"name\": \"\\u0e1d\\u0e32\\u0e22\\u0e43\\u0e2b\\u0e0d\\u0e48 \\u0e1a.\\u0e2b\\u0e19\\u0e2d\\u0e07\\u0e1c\\u0e37\\u0e2d\",\n",
      "   \"location\": {\n",
      "    \"city\": \"Amphoe Khemmarat\",\n",
      "    \"country\": \"Thailand\",\n",
      "    \"latitude\": 16.04,\n",
      "    \"longitude\": 105.0258,\n",
      "    \"street\": \"\\u0e1a.\\u0e2b\\u0e19\\u0e2d\\u0e07\\u0e1c\\u0e37\\u0e2d \\u0e2d.\\u0e40\\u0e02\\u0e21\\u0e23\\u0e32\\u0e10 \\u0e08.\\u0e2d\\u0e38\\u0e1a\\u0e25\\u0e23\\u0e32\\u0e0a\\u0e18\\u0e32\\u0e19\\u0e35\"\n",
      "   },\n",
      "   \"id\": \"171301986985073\"\n",
      "  },\n",
      "  {\n",
      "   \"name\": \"\\u0e1a\\u0e49\\u0e32\\u0e19\\u0e04\\u0e33\\u0e42\\u0e1e\\u0e19\",\n",
      "   \"location\": {\n",
      "    \"city\": \"Ban Na Wa\",\n",
      "    \"country\": \"Thailand\",\n",
      "    \"latitude\": 15.96100368,\n",
      "    \"longitude\": 104.9569499,\n",
      "    \"zip\": \"37110\"\n",
      "   },\n",
      "   \"id\": \"929663613802863\"\n",
      "  },\n",
      "  {\n",
      "   \"name\": \"Ban Hin Koeng, Amnta Charoen, Thailand\",\n",
      "   \"location\": {\n",
      "    \"city\": \"Ban Hin Koeng\",\n",
      "    \"country\": \"Thailand\",\n",
      "    \"latitude\": 15.9806,\n",
      "    \"longitude\": 104.954\n",
      "   },\n",
      "   \"id\": \"206190052754716\"\n",
      "  },\n",
      "  {\n",
      "   \"name\": \"\\u0e1a\\u0e49\\u0e32\\u0e19\\u0e19\\u0e32\\u0e2b\\u0e27\\u0e49\\u0e32 \\u0e2d.\\u0e1b\\u0e17\\u0e38\\u0e21\\u0e23\\u0e32\\u0e0a\\u0e27\\u0e07\\u0e28\\u0e32\",\n",
      "   \"location\": {\n",
      "    \"city\": \"Phana\",\n",
      "    \"country\": \"Thailand\",\n",
      "    \"latitude\": 15.8877967,\n",
      "    \"longitude\": 104.915265\n",
      "   },\n",
      "   \"id\": \"200137410451516\"\n",
      "  },\n",
      "  {\n",
      "   \"name\": \"\\u0e1a\\u0e49\\u0e32\\u0e19\\u0e2a\\u0e32\\u0e22\\u0e19\\u0e32\\u0e14\\u0e07 \\u0e2d.\\u0e0a\\u0e32\\u0e19\\u0e38\\u0e21\\u0e32\\u0e19\",\n",
      "   \"location\": {\n",
      "    \"city\": \"Ban Naphongtiou\",\n",
      "    \"country\": \"Laos\",\n",
      "    \"latitude\": 16.063460164817,\n",
      "    \"longitude\": 104.99597766981,\n",
      "    \"zip\": \"37210\"\n",
      "   },\n",
      "   \"id\": \"337442226697991\"\n",
      "  },\n",
      "  {\n",
      "   \"name\": \"\\u0e1a\\u0e49\\u0e32\\u0e19\\u0e14\\u0e2d\\u0e19\\u0e19\\u0e01\\u0e22\\u0e39\\u0e07 \\u0e15\\u0e33\\u0e1a\\u0e25\\u0e04\\u0e33\\u0e42\\u0e1e\\u0e19 \\u0e2d\\u0e33\\u0e40\\u0e20\\u0e2d\\u0e1b\\u0e17\\u0e38\\u0e21\\u0e23\\u0e32\\u0e0a\\u0e27\\u0e07\\u0e28\\u0e32 \\u0e08\\u0e31\\u0e07\\u0e2b\\u0e27\\u0e31\\u0e14\\u0e2d\\u0e33\\u0e19\\u0e32\\u0e08\\u0e40\\u0e08\\u0e23\\u0e34\\u0e0d\",\n",
      "   \"location\": {\n",
      "    \"city\": \"Ban Na Wa\",\n",
      "    \"country\": \"Thailand\",\n",
      "    \"latitude\": 15.9381654,\n",
      "    \"longitude\": 104.976957,\n",
      "    \"zip\": \"37110\"\n",
      "   },\n",
      "   \"id\": \"247180735956483\"\n",
      "  },\n",
      "  {\n",
      "   \"name\": \"\\u0e2d\\u0e48\\u0e32\\u0e07\\u0e40\\u0e01\\u0e47\\u0e1a\\u0e19\\u0e49\\u0e33\\u0e1a\\u0e49\\u0e32\\u0e19\\u0e2b\\u0e34\\u0e19\\u0e01\\u0e2d\\u0e07 \\u0e15\\u0e33\\u0e1a\\u0e25\\u0e19\\u0e32\\u0e2b\\u0e27\\u0e49\\u0e32 \\u0e2d\\u0e33\\u0e40\\u0e20\\u0e2d\\u0e1b\\u0e17\\u0e38\\u0e21\\u0e23\\u0e32\\u0e0a\\u0e27\\u0e07\\u0e28\\u0e32 \\u0e08\\u0e31\\u0e07\\u0e2b\\u0e27\\u0e31\\u0e14\\u0e2d\\u0e33\\u0e19\\u0e32\\u0e08\\u0e40\\u0e08\\u0e23\\u0e34\\u0e0d\",\n",
      "   \"location\": {\n",
      "    \"city\": \"Ban Na Wa\",\n",
      "    \"country\": \"Thailand\",\n",
      "    \"latitude\": 15.913830036343,\n",
      "    \"longitude\": 104.9694909964\n",
      "   },\n",
      "   \"id\": \"1952645261686846\"\n",
      "  }\n",
      " ],\n",
      " \"paging\": {\n",
      "  \"cursors\": {\n",
      "   \"after\": \"MjQZD\"\n",
      "  },\n",
      "  \"next\": \"https://graph.facebook.com/v7.0/search?access_token=EAAMP7rNwJ28BABUFekVviZCNCYv2joidTB4AbGXYUFSZCEyYGKZANwzrXHPFyaZBgn0DVZCNnTQKxMZBZCILmEaopbZA8qGGZCZBknL71WZAQIxemHf0VYhwsiJCLZCAmFcWuhvZAdJAPUKqCCNfGhYBBQv2gDr9un1EEmh6Gxq7sLklb5mZBEBqbRZAyXSuDOSU7GKX7ZCqY2pH5bXeoxXNzUMGyZAK947bq2h2gJDU6rcwrktYxvAZDZD&fields=name%2C+location&type=place&center=15.98245381079774%2C+104.97436600000003&limit=25&after=MjQZD\"\n",
      " }\n",
      "}\n"
     ]
    }
   ],
   "source": [
    "# Search for a location, may require approved app\n",
    "pp(g.request(\"search\", {'type': 'place', 'center': '15.98245381079774, 104.97436600000003', 'fields': 'name, location'}))"
   ]
  },
  {
   "cell_type": "markdown",
   "metadata": {
    "colab_type": "text",
    "id": "6nN1eujnSc_i"
   },
   "source": [
    "## Example 3. Querying the Graph API for Mining the Social Web and Counting Fans"
   ]
  },
  {
   "cell_type": "code",
   "execution_count": 12,
   "metadata": {
    "colab": {
     "base_uri": "https://localhost:8080/",
     "height": 69
    },
    "colab_type": "code",
    "executionInfo": {
     "elapsed": 1092,
     "status": "ok",
     "timestamp": 1589771481615,
     "user": {
      "displayName": "Đặng Nhân Cách - TT. DL&CNTT",
      "photoUrl": "",
      "userId": "16824149070900219040"
     },
     "user_tz": -420
    },
    "id": "bCUAoqQqSc_j",
    "outputId": "f827e9d8-0b25-40e1-a73c-74c21aac0f09"
   },
   "outputs": [
    {
     "name": "stdout",
     "output_type": "stream",
     "text": [
      "{\n",
      " \"data\": []\n",
      "}\n"
     ]
    }
   ],
   "source": [
    "# Search for a page's ID by name\n",
    "pp(g.request(\"search\", {'q': '112006990211889', 'type': 'page'}))\n",
    "\n",
    "# Grab the ID for the book and check the number of fans\n",
    "#mtsw_id = '146803958708175'\n",
    "#pp(g.get_object(id=mtsw_id, fields=['fan_count']))"
   ]
  },
  {
   "cell_type": "markdown",
   "metadata": {
    "colab_type": "text",
    "id": "u80wDFuLSc_o"
   },
   "source": [
    "## Example 4. Querying the Graph API for Open Graph objects by their URLs"
   ]
  },
  {
   "cell_type": "code",
   "execution_count": 0,
   "metadata": {
    "colab": {
     "base_uri": "https://localhost:8080/",
     "height": 119
    },
    "colab_type": "code",
    "executionInfo": {
     "elapsed": 905,
     "status": "ok",
     "timestamp": 1589534679579,
     "user": {
      "displayName": "Đặng Nhân Cách - TT. DL&CNTT",
      "photoUrl": "",
      "userId": "16824149070900219040"
     },
     "user_tz": -420
    },
    "id": "rP3BPeHASc_p",
    "outputId": "aeee6eb7-0d5b-481d-b600-117cfb500f1a"
   },
   "outputs": [
    {
     "name": "stdout",
     "output_type": "stream",
     "text": [
      "{\n",
      " \"id\": \"http://shop.oreilly.com/product/0636920030195.do\"\n",
      "}\n",
      "{\n",
      " \"id\": \"http://shop.oreilly.com/product/9780596529321.do\"\n",
      "}\n"
     ]
    }
   ],
   "source": [
    "# MTSW catalog link\n",
    "pp(g.get_object('http://shop.oreilly.com/product/0636920030195.do'))\n",
    "\n",
    "# PCI catalog link\n",
    "pp(g.get_object('http://shop.oreilly.com/product/9780596529321.do'))"
   ]
  },
  {
   "cell_type": "markdown",
   "metadata": {
    "colab_type": "text",
    "id": "7rncS_ZhSc_u"
   },
   "source": [
    "## Example 5. Counting total number of page fans"
   ]
  },
  {
   "cell_type": "code",
   "execution_count": 0,
   "metadata": {
    "colab": {
     "base_uri": "https://localhost:8080/",
     "height": 68
    },
    "colab_type": "code",
    "executionInfo": {
     "elapsed": 1257,
     "status": "ok",
     "timestamp": 1589536310155,
     "user": {
      "displayName": "Đặng Nhân Cách - TT. DL&CNTT",
      "photoUrl": "",
      "userId": "16824149070900219040"
     },
     "user_tz": -420
    },
    "id": "omSOesUBSc_v",
    "outputId": "e0c2462a-c59e-495b-da53-e57419298587"
   },
   "outputs": [
    {
     "name": "stdout",
     "output_type": "stream",
     "text": [
      "Taylor Swift: 0 fans on Facebook\n",
      "Drake:        0 fans on Facebook\n",
      "Beyoncé:      0 fans on Facebook\n"
     ]
    }
   ],
   "source": [
    "# The following code may require the developer's app be submitted for review and\n",
    "# approved. See https://developers.facebook.com/docs/apps/review\n",
    "\n",
    "# Take, for example, three popular musicians and their page IDs.\n",
    "# IDFanpage='102221681445543'\n",
    "taylor_swift_id = '102221681445543'\n",
    "drake_id = '102221681445543'\n",
    "beyonce_id = '102221681445543'\n",
    "\n",
    "# Declare a helper function for retrieving the total number of fans ('likes') a page has \n",
    "def get_total_fans(page_id):\n",
    "    return int(g.get_object(id=page_id, fields=['fan_count'])['fan_count'])\n",
    "\n",
    "tswift_fans = get_total_fans(taylor_swift_id)\n",
    "drake_fans = get_total_fans(drake_id)\n",
    "beyonce_fans = get_total_fans(beyonce_id)\n",
    "\n",
    "print('Taylor Swift: {0} fans on Facebook'.format(tswift_fans))\n",
    "print('Drake:        {0} fans on Facebook'.format(drake_fans))\n",
    "print('Beyoncé:      {0} fans on Facebook'.format(beyonce_fans))"
   ]
  },
  {
   "cell_type": "markdown",
   "metadata": {
    "colab_type": "text",
    "id": "RP8gTZ1FSc_0"
   },
   "source": [
    "## Example 6. Retrieving a page's feed"
   ]
  },
  {
   "cell_type": "code",
   "execution_count": 0,
   "metadata": {
    "colab": {
     "base_uri": "https://localhost:8080/",
     "height": 272
    },
    "colab_type": "code",
    "executionInfo": {
     "elapsed": 1419,
     "status": "ok",
     "timestamp": 1589536314909,
     "user": {
      "displayName": "Đặng Nhân Cách - TT. DL&CNTT",
      "photoUrl": "",
      "userId": "16824149070900219040"
     },
     "user_tz": -420
    },
    "id": "Ochx6cJbSc_2",
    "outputId": "8ed6ec34-f1ae-472f-de75-537b4a9335e0"
   },
   "outputs": [
    {
     "name": "stdout",
     "output_type": "stream",
     "text": [
      "\n",
      "Reached end of feed.\n",
      "2 items retrieved from feed\n",
      "1 - Mình đang cần 500++ cmt để xử lý dữ liệu gấp.Cmt c...\n",
      "2 - Cmt vào đây bất cứ thứ gì help me. Hậu tạ và cảm ơ...\n",
      "\n",
      "Reached end of feed.\n",
      "2 items retrieved from feed\n",
      "1 - Mình đang cần 500++ cmt để xử lý dữ liệu gấp.Cmt c...\n",
      "2 - Cmt vào đây bất cứ thứ gì help me. Hậu tạ và cảm ơ...\n",
      "\n",
      "Reached end of feed.\n",
      "2 items retrieved from feed\n",
      "1 - Mình đang cần 500++ cmt để xử lý dữ liệu gấp.Cmt c...\n",
      "2 - Cmt vào đây bất cứ thứ gì help me. Hậu tạ và cảm ơ...\n"
     ]
    }
   ],
   "source": [
    "# Declare a helper function for retrieving the official feed from a given page.\n",
    "def retrieve_page_feed(page_id, n_posts):\n",
    "    \"\"\"Retrieve the first n_posts from a page's feed in reverse\n",
    "    chronological order.\"\"\"\n",
    "    feed = g.get_connections(page_id, 'posts')\n",
    "    posts = []\n",
    "    posts.extend(feed['data'])\n",
    "\n",
    "    while len(posts) < n_posts:\n",
    "        try:\n",
    "            feed = requests.get(feed['paging']['next']).json()\n",
    "            posts.extend(feed['data'])\n",
    "        except KeyError:\n",
    "            # When there are no more posts in the feed, break\n",
    "            print('Reached end of feed.')\n",
    "            break\n",
    "            \n",
    "    if len(posts) > n_posts:\n",
    "        posts = posts[:n_posts]\n",
    "\n",
    "    print('{} items retrieved from feed'.format(len(posts)))\n",
    "    return posts\n",
    "\n",
    "# Declare a helper function for returning the message content of a post\n",
    "def get_post_message(post):\n",
    "    try:\n",
    "        message = post['story']\n",
    "    except KeyError:\n",
    "        # Post may have 'message' instead of 'story'\n",
    "        pass\n",
    "    try:\n",
    "        message = post['message']\n",
    "    except KeyError:\n",
    "        # Post has neither\n",
    "        message = ''\n",
    "    return message.replace('\\n', ' ')\n",
    "\n",
    "# Retrieve the last 5 items from their feeds\n",
    "for artist in [taylor_swift_id, drake_id, beyonce_id]:\n",
    "    print()\n",
    "    feed = retrieve_page_feed(artist, 5)\n",
    "    for i, post in enumerate(feed):\n",
    "        message = get_post_message(post)[:50]\n",
    "        print('{0} - {1}...'.format(i+1, message))"
   ]
  },
  {
   "cell_type": "markdown",
   "metadata": {
    "colab_type": "text",
    "id": "P3nDjejhSc_6"
   },
   "source": [
    "## Example 7. Measuring engagement"
   ]
  },
  {
   "cell_type": "code",
   "execution_count": 0,
   "metadata": {
    "colab": {
     "base_uri": "https://localhost:8080/",
     "height": 435
    },
    "colab_type": "code",
    "executionInfo": {
     "elapsed": 2156,
     "status": "error",
     "timestamp": 1589536331654,
     "user": {
      "displayName": "Đặng Nhân Cách - TT. DL&CNTT",
      "photoUrl": "",
      "userId": "16824149070900219040"
     },
     "user_tz": -420
    },
    "id": "uJVj4HV4Sc_7",
    "outputId": "893d759b-8c9d-411b-8521-f9bcffc024c8"
   },
   "outputs": [
    {
     "name": "stdout",
     "output_type": "stream",
     "text": [
      "\n",
      "Taylor Swift\n",
      "------------\n",
      "Reached end of feed.\n",
      "2 items retrieved from feed\n"
     ]
    },
    {
     "ename": "ZeroDivisionError",
     "evalue": "ignored",
     "output_type": "error",
     "traceback": [
      "\u001b[0;31m---------------------------------------------------------------------------\u001b[0m",
      "\u001b[0;31mZeroDivisionError\u001b[0m                         Traceback (most recent call last)",
      "\u001b[0;32m<ipython-input-39-c227041701e9>\u001b[0m in \u001b[0;36m<module>\u001b[0;34m()\u001b[0m\n\u001b[1;32m     48\u001b[0m         \u001b[0mpost_id\u001b[0m \u001b[0;34m=\u001b[0m \u001b[0mpost\u001b[0m\u001b[0;34m[\u001b[0m\u001b[0;34m'id'\u001b[0m\u001b[0;34m]\u001b[0m\u001b[0;34m\u001b[0m\u001b[0;34m\u001b[0m\u001b[0m\n\u001b[1;32m     49\u001b[0m         \u001b[0mlikes\u001b[0m\u001b[0;34m,\u001b[0m \u001b[0mshares\u001b[0m\u001b[0;34m,\u001b[0m \u001b[0mcomments\u001b[0m \u001b[0;34m=\u001b[0m \u001b[0mmeasure_response\u001b[0m\u001b[0;34m(\u001b[0m\u001b[0mpost_id\u001b[0m\u001b[0;34m)\u001b[0m\u001b[0;34m\u001b[0m\u001b[0;34m\u001b[0m\u001b[0m\n\u001b[0;32m---> 50\u001b[0;31m         \u001b[0mlikes_pct\u001b[0m\u001b[0;34m,\u001b[0m \u001b[0mshares_pct\u001b[0m\u001b[0;34m,\u001b[0m \u001b[0mcomments_pct\u001b[0m \u001b[0;34m=\u001b[0m \u001b[0mmeasure_engagement\u001b[0m\u001b[0;34m(\u001b[0m\u001b[0mpost_id\u001b[0m\u001b[0;34m,\u001b[0m \u001b[0mtotal_fans\u001b[0m\u001b[0;34m)\u001b[0m\u001b[0;34m\u001b[0m\u001b[0;34m\u001b[0m\u001b[0m\n\u001b[0m\u001b[1;32m     51\u001b[0m         \u001b[0mprint\u001b[0m\u001b[0;34m(\u001b[0m\u001b[0;34m'{0} - {1}...'\u001b[0m\u001b[0;34m.\u001b[0m\u001b[0mformat\u001b[0m\u001b[0;34m(\u001b[0m\u001b[0mi\u001b[0m\u001b[0;34m+\u001b[0m\u001b[0;36m1\u001b[0m\u001b[0;34m,\u001b[0m \u001b[0mmessage\u001b[0m\u001b[0;34m)\u001b[0m\u001b[0;34m)\u001b[0m\u001b[0;34m\u001b[0m\u001b[0;34m\u001b[0m\u001b[0m\n\u001b[1;32m     52\u001b[0m         \u001b[0mprint\u001b[0m\u001b[0;34m(\u001b[0m\u001b[0;34m'    Likes {0} ({1:7.5f}%)'\u001b[0m\u001b[0;34m.\u001b[0m\u001b[0mformat\u001b[0m\u001b[0;34m(\u001b[0m\u001b[0mlikes\u001b[0m\u001b[0;34m,\u001b[0m \u001b[0mlikes_pct\u001b[0m\u001b[0;34m)\u001b[0m\u001b[0;34m)\u001b[0m\u001b[0;34m\u001b[0m\u001b[0;34m\u001b[0m\u001b[0m\n",
      "\u001b[0;32m<ipython-input-39-c227041701e9>\u001b[0m in \u001b[0;36mmeasure_engagement\u001b[0;34m(post_id, total_fans)\u001b[0m\n\u001b[1;32m     27\u001b[0m                          fields=['comments.limit(0).summary(true)'])\\\n\u001b[1;32m     28\u001b[0m                          \u001b[0;34m[\u001b[0m\u001b[0;34m'comments'\u001b[0m\u001b[0;34m]\u001b[0m\u001b[0;34m[\u001b[0m\u001b[0;34m'summary'\u001b[0m\u001b[0;34m]\u001b[0m\u001b[0;34m[\u001b[0m\u001b[0;34m'total_count'\u001b[0m\u001b[0;34m]\u001b[0m\u001b[0;34m\u001b[0m\u001b[0;34m\u001b[0m\u001b[0m\n\u001b[0;32m---> 29\u001b[0;31m     \u001b[0mlikes_pct\u001b[0m \u001b[0;34m=\u001b[0m \u001b[0mlikes\u001b[0m \u001b[0;34m/\u001b[0m \u001b[0mtotal_fans\u001b[0m \u001b[0;34m*\u001b[0m \u001b[0;36m100.0\u001b[0m\u001b[0;34m\u001b[0m\u001b[0;34m\u001b[0m\u001b[0m\n\u001b[0m\u001b[1;32m     30\u001b[0m     \u001b[0mshares_pct\u001b[0m \u001b[0;34m=\u001b[0m \u001b[0mshares\u001b[0m \u001b[0;34m/\u001b[0m \u001b[0mtotal_fans\u001b[0m \u001b[0;34m*\u001b[0m \u001b[0;36m100.0\u001b[0m\u001b[0;34m\u001b[0m\u001b[0;34m\u001b[0m\u001b[0m\n\u001b[1;32m     31\u001b[0m     \u001b[0mcomments_pct\u001b[0m \u001b[0;34m=\u001b[0m \u001b[0mcomments\u001b[0m \u001b[0;34m/\u001b[0m \u001b[0mtotal_fans\u001b[0m \u001b[0;34m*\u001b[0m \u001b[0;36m100.0\u001b[0m\u001b[0;34m\u001b[0m\u001b[0;34m\u001b[0m\u001b[0m\n",
      "\u001b[0;31mZeroDivisionError\u001b[0m: division by zero"
     ]
    }
   ],
   "source": [
    "# Measure the response to a post in terms of likes, shares, and comments\n",
    "def measure_response(post_id):\n",
    "    \"\"\"Returns the number of likes, shares, and comments on a \n",
    "    given post as a measure of user engagement.\"\"\"\n",
    "    likes = g.get_object(id=post_id, \n",
    "                         fields=['likes.limit(0).summary(true)'])\\\n",
    "                         ['likes']['summary']['total_count']\n",
    "    shares = g.get_object(id=post_id, \n",
    "                         fields=['shares.limit(0).summary(true)'])\\\n",
    "                         ['shares']['count']\n",
    "    comments = g.get_object(id=post_id, \n",
    "                         fields=['comments.limit(0).summary(true)'])\\\n",
    "                         ['comments']['summary']['total_count']\n",
    "    return likes, shares, comments\n",
    "\n",
    "# Measure the relative share of a page's fans engaging with a post\n",
    "def measure_engagement(post_id, total_fans):\n",
    "    \"\"\"Returns the number of likes, shares, and comments on a \n",
    "    given post as a measure of user engagement.\"\"\"\n",
    "    likes = g.get_object(id=post_id, \n",
    "                         fields=['likes.limit(0).summary(true)'])\\\n",
    "                         ['likes']['summary']['total_count']\n",
    "    shares = g.get_object(id=post_id, \n",
    "                         fields=['shares.limit(0).summary(true)'])\\\n",
    "                         ['shares']['count']\n",
    "    comments = g.get_object(id=post_id, \n",
    "                         fields=['comments.limit(0).summary(true)'])\\\n",
    "                         ['comments']['summary']['total_count']\n",
    "    likes_pct = likes / total_fans * 100.0\n",
    "    shares_pct = shares / total_fans * 100.0\n",
    "    comments_pct = comments / total_fans * 100.0\n",
    "    return likes_pct, shares_pct, comments_pct\n",
    "\n",
    "# Retrieve the last 5 items from the artists' feeds, print the\n",
    "# reaction and the degree of engagement\n",
    "artist_dict = {'Taylor Swift': taylor_swift_id,\n",
    "               'Drake': drake_id,\n",
    "               'Beyoncé': beyonce_id}\n",
    "for name, page_id in artist_dict.items():\n",
    "    print()\n",
    "    print(name)\n",
    "    print('------------')\n",
    "    feed = retrieve_page_feed(page_id, 5)\n",
    "    total_fans = get_total_fans(page_id)\n",
    "    \n",
    "    for i, post in enumerate(feed):\n",
    "        message = get_post_message(post)[:30]\n",
    "        post_id = post['id']\n",
    "        likes, shares, comments = measure_response(post_id)\n",
    "        likes_pct, shares_pct, comments_pct = measure_engagement(post_id, total_fans)\n",
    "        print('{0} - {1}...'.format(i+1, message))\n",
    "        print('    Likes {0} ({1:7.5f}%)'.format(likes, likes_pct))\n",
    "        print('    Shares {0} ({1:7.5f}%)'.format(shares, shares_pct))\n",
    "        print('    Comments {0} ({1:7.5f}%)'.format(comments, comments_pct))"
   ]
  },
  {
   "cell_type": "markdown",
   "metadata": {
    "colab_type": "text",
    "id": "x6svvbhwSc__"
   },
   "source": [
    "## Example 8. Storing data in a pandas DataFrame"
   ]
  },
  {
   "cell_type": "code",
   "execution_count": 0,
   "metadata": {
    "colab": {
     "base_uri": "https://localhost:8080/",
     "height": 384
    },
    "colab_type": "code",
    "executionInfo": {
     "elapsed": 2178,
     "status": "error",
     "timestamp": 1589536350968,
     "user": {
      "displayName": "Đặng Nhân Cách - TT. DL&CNTT",
      "photoUrl": "",
      "userId": "16824149070900219040"
     },
     "user_tz": -420
    },
    "id": "hxK9V1OySdAA",
    "outputId": "35380392-3a31-4b97-b749-59debeeebef5"
   },
   "outputs": [
    {
     "name": "stdout",
     "output_type": "stream",
     "text": [
      "Reached end of feed.\n",
      "2 items retrieved from feed\n"
     ]
    },
    {
     "ename": "ZeroDivisionError",
     "evalue": "ignored",
     "output_type": "error",
     "traceback": [
      "\u001b[0;31m---------------------------------------------------------------------------\u001b[0m",
      "\u001b[0;31mZeroDivisionError\u001b[0m                         Traceback (most recent call last)",
      "\u001b[0;32m<ipython-input-40-7d658e80fa73>\u001b[0m in \u001b[0;36m<module>\u001b[0;34m()\u001b[0m\n\u001b[1;32m     24\u001b[0m     \u001b[0;32mfor\u001b[0m \u001b[0mi\u001b[0m\u001b[0;34m,\u001b[0m \u001b[0mpost\u001b[0m \u001b[0;32min\u001b[0m \u001b[0menumerate\u001b[0m\u001b[0;34m(\u001b[0m\u001b[0mfeed\u001b[0m\u001b[0;34m)\u001b[0m\u001b[0;34m:\u001b[0m\u001b[0;34m\u001b[0m\u001b[0;34m\u001b[0m\u001b[0m\n\u001b[1;32m     25\u001b[0m         \u001b[0mlikes\u001b[0m\u001b[0;34m,\u001b[0m \u001b[0mshares\u001b[0m\u001b[0;34m,\u001b[0m \u001b[0mcomments\u001b[0m \u001b[0;34m=\u001b[0m \u001b[0mmeasure_response\u001b[0m\u001b[0;34m(\u001b[0m\u001b[0mpost\u001b[0m\u001b[0;34m[\u001b[0m\u001b[0;34m'id'\u001b[0m\u001b[0;34m]\u001b[0m\u001b[0;34m)\u001b[0m\u001b[0;34m\u001b[0m\u001b[0;34m\u001b[0m\u001b[0m\n\u001b[0;32m---> 26\u001b[0;31m         \u001b[0mlikes_pct\u001b[0m\u001b[0;34m,\u001b[0m \u001b[0mshares_pct\u001b[0m\u001b[0;34m,\u001b[0m \u001b[0mcomments_pct\u001b[0m \u001b[0;34m=\u001b[0m \u001b[0mmeasure_engagement\u001b[0m\u001b[0;34m(\u001b[0m\u001b[0mpost\u001b[0m\u001b[0;34m[\u001b[0m\u001b[0;34m'id'\u001b[0m\u001b[0;34m]\u001b[0m\u001b[0;34m,\u001b[0m \u001b[0mfans\u001b[0m\u001b[0;34m)\u001b[0m\u001b[0;34m\u001b[0m\u001b[0;34m\u001b[0m\u001b[0m\n\u001b[0m\u001b[1;32m     27\u001b[0m         musicians = musicians.append({'Name': name,\n\u001b[1;32m     28\u001b[0m                                       \u001b[0;34m'Total Fans'\u001b[0m\u001b[0;34m:\u001b[0m \u001b[0mfans\u001b[0m\u001b[0;34m,\u001b[0m\u001b[0;34m\u001b[0m\u001b[0;34m\u001b[0m\u001b[0m\n",
      "\u001b[0;32m<ipython-input-39-c227041701e9>\u001b[0m in \u001b[0;36mmeasure_engagement\u001b[0;34m(post_id, total_fans)\u001b[0m\n\u001b[1;32m     27\u001b[0m                          fields=['comments.limit(0).summary(true)'])\\\n\u001b[1;32m     28\u001b[0m                          \u001b[0;34m[\u001b[0m\u001b[0;34m'comments'\u001b[0m\u001b[0;34m]\u001b[0m\u001b[0;34m[\u001b[0m\u001b[0;34m'summary'\u001b[0m\u001b[0;34m]\u001b[0m\u001b[0;34m[\u001b[0m\u001b[0;34m'total_count'\u001b[0m\u001b[0;34m]\u001b[0m\u001b[0;34m\u001b[0m\u001b[0;34m\u001b[0m\u001b[0m\n\u001b[0;32m---> 29\u001b[0;31m     \u001b[0mlikes_pct\u001b[0m \u001b[0;34m=\u001b[0m \u001b[0mlikes\u001b[0m \u001b[0;34m/\u001b[0m \u001b[0mtotal_fans\u001b[0m \u001b[0;34m*\u001b[0m \u001b[0;36m100.0\u001b[0m\u001b[0;34m\u001b[0m\u001b[0;34m\u001b[0m\u001b[0m\n\u001b[0m\u001b[1;32m     30\u001b[0m     \u001b[0mshares_pct\u001b[0m \u001b[0;34m=\u001b[0m \u001b[0mshares\u001b[0m \u001b[0;34m/\u001b[0m \u001b[0mtotal_fans\u001b[0m \u001b[0;34m*\u001b[0m \u001b[0;36m100.0\u001b[0m\u001b[0;34m\u001b[0m\u001b[0;34m\u001b[0m\u001b[0m\n\u001b[1;32m     31\u001b[0m     \u001b[0mcomments_pct\u001b[0m \u001b[0;34m=\u001b[0m \u001b[0mcomments\u001b[0m \u001b[0;34m/\u001b[0m \u001b[0mtotal_fans\u001b[0m \u001b[0;34m*\u001b[0m \u001b[0;36m100.0\u001b[0m\u001b[0;34m\u001b[0m\u001b[0;34m\u001b[0m\u001b[0m\n",
      "\u001b[0;31mZeroDivisionError\u001b[0m: division by zero"
     ]
    }
   ],
   "source": [
    "import pandas as pd  # pip install pandas\n",
    "\n",
    "# Create a Pandas DataFrame to contain artist page\n",
    "# feed information\n",
    "columns = ['Name',\n",
    "           'Total Fans',\n",
    "           'Post Number',\n",
    "           'Post Date',\n",
    "           'Headline',\n",
    "           'Likes',\n",
    "           'Shares',\n",
    "           'Comments',\n",
    "           'Rel. Likes',\n",
    "           'Rel. Shares',\n",
    "           'Rel. Comments']\n",
    "musicians = pd.DataFrame(columns=columns)\n",
    "\n",
    "# Build the DataFrame by adding the last 10 posts and their audience\n",
    "# reaction for each of the artists\n",
    "for page_id in [taylor_swift_id, drake_id, beyonce_id]:\n",
    "    name = g.get_object(id=page_id)['name']\n",
    "    fans = get_total_fans(page_id)\n",
    "    feed = retrieve_page_feed(page_id, 10)\n",
    "    for i, post in enumerate(feed):\n",
    "        likes, shares, comments = measure_response(post['id'])\n",
    "        likes_pct, shares_pct, comments_pct = measure_engagement(post['id'], fans)\n",
    "        musicians = musicians.append({'Name': name,\n",
    "                                      'Total Fans': fans,\n",
    "                                      'Post Number': i+1,\n",
    "                                      'Post Date': post['created_time'],\n",
    "                                      'Headline': get_post_message(post),\n",
    "                                      'Likes': likes,\n",
    "                                      'Shares': shares,\n",
    "                                      'Comments': comments,\n",
    "                                      'Rel. Likes': likes_pct,\n",
    "                                      'Rel. Shares': shares_pct,\n",
    "                                      'Rel. Comments': comments_pct,\n",
    "                                     }, ignore_index=True)\n",
    "# Fix the dtype of a few columns\n",
    "for col in ['Post Number', 'Total Fans', 'Likes', 'Shares', 'Comments']:\n",
    "    musicians[col] = musicians[col].astype(int)"
   ]
  },
  {
   "cell_type": "code",
   "execution_count": 0,
   "metadata": {
    "colab": {},
    "colab_type": "code",
    "id": "0VB8Fc-GSdAD"
   },
   "outputs": [],
   "source": [
    "# Show a preview of the DataFrame\n",
    "musicians.head()"
   ]
  },
  {
   "cell_type": "markdown",
   "metadata": {
    "colab_type": "text",
    "id": "YiSlPubzSdAG"
   },
   "source": [
    "## Example 9. Visualizing data stored in a pandas DataFrame"
   ]
  },
  {
   "cell_type": "code",
   "execution_count": 0,
   "metadata": {
    "colab": {
     "base_uri": "https://localhost:8080/",
     "height": 374
    },
    "colab_type": "code",
    "executionInfo": {
     "elapsed": 910,
     "status": "error",
     "timestamp": 1589536358555,
     "user": {
      "displayName": "Đặng Nhân Cách - TT. DL&CNTT",
      "photoUrl": "",
      "userId": "16824149070900219040"
     },
     "user_tz": -420
    },
    "id": "zC3OOCHASdAH",
    "outputId": "6ba369fe-81af-4867-aa07-ba3b829738b0"
   },
   "outputs": [
    {
     "ename": "TypeError",
     "evalue": "ignored",
     "output_type": "error",
     "traceback": [
      "\u001b[0;31m---------------------------------------------------------------------------\u001b[0m",
      "\u001b[0;31mTypeError\u001b[0m                                 Traceback (most recent call last)",
      "\u001b[0;32m<ipython-input-41-c12352e2fdac>\u001b[0m in \u001b[0;36m<module>\u001b[0;34m()\u001b[0m\n\u001b[1;32m      2\u001b[0m \u001b[0mget_ipython\u001b[0m\u001b[0;34m(\u001b[0m\u001b[0;34m)\u001b[0m\u001b[0;34m.\u001b[0m\u001b[0mmagic\u001b[0m\u001b[0;34m(\u001b[0m\u001b[0;34m'matplotlib inline'\u001b[0m\u001b[0;34m)\u001b[0m\u001b[0;34m\u001b[0m\u001b[0;34m\u001b[0m\u001b[0m\n\u001b[1;32m      3\u001b[0m \u001b[0;34m\u001b[0m\u001b[0m\n\u001b[0;32m----> 4\u001b[0;31m \u001b[0mmusicians\u001b[0m\u001b[0;34m[\u001b[0m\u001b[0mmusicians\u001b[0m\u001b[0;34m[\u001b[0m\u001b[0;34m'Name'\u001b[0m\u001b[0;34m]\u001b[0m \u001b[0;34m==\u001b[0m \u001b[0;34m'Drake'\u001b[0m\u001b[0;34m]\u001b[0m\u001b[0;34m.\u001b[0m\u001b[0mplot\u001b[0m\u001b[0;34m(\u001b[0m\u001b[0mx\u001b[0m\u001b[0;34m=\u001b[0m\u001b[0;34m'Post Number'\u001b[0m\u001b[0;34m,\u001b[0m \u001b[0my\u001b[0m\u001b[0;34m=\u001b[0m\u001b[0;34m'Likes'\u001b[0m\u001b[0;34m,\u001b[0m \u001b[0mkind\u001b[0m\u001b[0;34m=\u001b[0m\u001b[0;34m'bar'\u001b[0m\u001b[0;34m)\u001b[0m\u001b[0;34m\u001b[0m\u001b[0;34m\u001b[0m\u001b[0m\n\u001b[0m\u001b[1;32m      5\u001b[0m \u001b[0mmusicians\u001b[0m\u001b[0;34m[\u001b[0m\u001b[0mmusicians\u001b[0m\u001b[0;34m[\u001b[0m\u001b[0;34m'Name'\u001b[0m\u001b[0;34m]\u001b[0m \u001b[0;34m==\u001b[0m \u001b[0;34m'Drake'\u001b[0m\u001b[0;34m]\u001b[0m\u001b[0;34m.\u001b[0m\u001b[0mplot\u001b[0m\u001b[0;34m(\u001b[0m\u001b[0mx\u001b[0m\u001b[0;34m=\u001b[0m\u001b[0;34m'Post Number'\u001b[0m\u001b[0;34m,\u001b[0m \u001b[0my\u001b[0m\u001b[0;34m=\u001b[0m\u001b[0;34m'Shares'\u001b[0m\u001b[0;34m,\u001b[0m \u001b[0mkind\u001b[0m\u001b[0;34m=\u001b[0m\u001b[0;34m'bar'\u001b[0m\u001b[0;34m)\u001b[0m\u001b[0;34m\u001b[0m\u001b[0;34m\u001b[0m\u001b[0m\n\u001b[1;32m      6\u001b[0m \u001b[0mmusicians\u001b[0m\u001b[0;34m[\u001b[0m\u001b[0mmusicians\u001b[0m\u001b[0;34m[\u001b[0m\u001b[0;34m'Name'\u001b[0m\u001b[0;34m]\u001b[0m \u001b[0;34m==\u001b[0m \u001b[0;34m'Drake'\u001b[0m\u001b[0;34m]\u001b[0m\u001b[0;34m.\u001b[0m\u001b[0mplot\u001b[0m\u001b[0;34m(\u001b[0m\u001b[0mx\u001b[0m\u001b[0;34m=\u001b[0m\u001b[0;34m'Post Number'\u001b[0m\u001b[0;34m,\u001b[0m \u001b[0my\u001b[0m\u001b[0;34m=\u001b[0m\u001b[0;34m'Comments'\u001b[0m\u001b[0;34m,\u001b[0m \u001b[0mkind\u001b[0m\u001b[0;34m=\u001b[0m\u001b[0;34m'bar'\u001b[0m\u001b[0;34m)\u001b[0m\u001b[0;34m\u001b[0m\u001b[0;34m\u001b[0m\u001b[0m\n",
      "\u001b[0;32m/usr/local/lib/python3.6/dist-packages/pandas/plotting/_core.py\u001b[0m in \u001b[0;36m__call__\u001b[0;34m(self, *args, **kwargs)\u001b[0m\n\u001b[1;32m    845\u001b[0m                     \u001b[0mdata\u001b[0m\u001b[0;34m.\u001b[0m\u001b[0mcolumns\u001b[0m \u001b[0;34m=\u001b[0m \u001b[0mlabel_name\u001b[0m\u001b[0;34m\u001b[0m\u001b[0;34m\u001b[0m\u001b[0m\n\u001b[1;32m    846\u001b[0m \u001b[0;34m\u001b[0m\u001b[0m\n\u001b[0;32m--> 847\u001b[0;31m         \u001b[0;32mreturn\u001b[0m \u001b[0mplot_backend\u001b[0m\u001b[0;34m.\u001b[0m\u001b[0mplot\u001b[0m\u001b[0;34m(\u001b[0m\u001b[0mdata\u001b[0m\u001b[0;34m,\u001b[0m \u001b[0mkind\u001b[0m\u001b[0;34m=\u001b[0m\u001b[0mkind\u001b[0m\u001b[0;34m,\u001b[0m \u001b[0;34m**\u001b[0m\u001b[0mkwargs\u001b[0m\u001b[0;34m)\u001b[0m\u001b[0;34m\u001b[0m\u001b[0;34m\u001b[0m\u001b[0m\n\u001b[0m\u001b[1;32m    848\u001b[0m \u001b[0;34m\u001b[0m\u001b[0m\n\u001b[1;32m    849\u001b[0m     \u001b[0m__call__\u001b[0m\u001b[0;34m.\u001b[0m\u001b[0m__doc__\u001b[0m \u001b[0;34m=\u001b[0m \u001b[0m__doc__\u001b[0m\u001b[0;34m\u001b[0m\u001b[0;34m\u001b[0m\u001b[0m\n",
      "\u001b[0;32m/usr/local/lib/python3.6/dist-packages/pandas/plotting/_matplotlib/__init__.py\u001b[0m in \u001b[0;36mplot\u001b[0;34m(data, kind, **kwargs)\u001b[0m\n\u001b[1;32m     59\u001b[0m             \u001b[0mkwargs\u001b[0m\u001b[0;34m[\u001b[0m\u001b[0;34m\"ax\"\u001b[0m\u001b[0;34m]\u001b[0m \u001b[0;34m=\u001b[0m \u001b[0mgetattr\u001b[0m\u001b[0;34m(\u001b[0m\u001b[0max\u001b[0m\u001b[0;34m,\u001b[0m \u001b[0;34m\"left_ax\"\u001b[0m\u001b[0;34m,\u001b[0m \u001b[0max\u001b[0m\u001b[0;34m)\u001b[0m\u001b[0;34m\u001b[0m\u001b[0;34m\u001b[0m\u001b[0m\n\u001b[1;32m     60\u001b[0m     \u001b[0mplot_obj\u001b[0m \u001b[0;34m=\u001b[0m \u001b[0mPLOT_CLASSES\u001b[0m\u001b[0;34m[\u001b[0m\u001b[0mkind\u001b[0m\u001b[0;34m]\u001b[0m\u001b[0;34m(\u001b[0m\u001b[0mdata\u001b[0m\u001b[0;34m,\u001b[0m \u001b[0;34m**\u001b[0m\u001b[0mkwargs\u001b[0m\u001b[0;34m)\u001b[0m\u001b[0;34m\u001b[0m\u001b[0;34m\u001b[0m\u001b[0m\n\u001b[0;32m---> 61\u001b[0;31m     \u001b[0mplot_obj\u001b[0m\u001b[0;34m.\u001b[0m\u001b[0mgenerate\u001b[0m\u001b[0;34m(\u001b[0m\u001b[0;34m)\u001b[0m\u001b[0;34m\u001b[0m\u001b[0;34m\u001b[0m\u001b[0m\n\u001b[0m\u001b[1;32m     62\u001b[0m     \u001b[0mplot_obj\u001b[0m\u001b[0;34m.\u001b[0m\u001b[0mdraw\u001b[0m\u001b[0;34m(\u001b[0m\u001b[0;34m)\u001b[0m\u001b[0;34m\u001b[0m\u001b[0;34m\u001b[0m\u001b[0m\n\u001b[1;32m     63\u001b[0m     \u001b[0;32mreturn\u001b[0m \u001b[0mplot_obj\u001b[0m\u001b[0;34m.\u001b[0m\u001b[0mresult\u001b[0m\u001b[0;34m\u001b[0m\u001b[0;34m\u001b[0m\u001b[0m\n",
      "\u001b[0;32m/usr/local/lib/python3.6/dist-packages/pandas/plotting/_matplotlib/core.py\u001b[0m in \u001b[0;36mgenerate\u001b[0;34m(self)\u001b[0m\n\u001b[1;32m    259\u001b[0m     \u001b[0;32mdef\u001b[0m \u001b[0mgenerate\u001b[0m\u001b[0;34m(\u001b[0m\u001b[0mself\u001b[0m\u001b[0;34m)\u001b[0m\u001b[0;34m:\u001b[0m\u001b[0;34m\u001b[0m\u001b[0;34m\u001b[0m\u001b[0m\n\u001b[1;32m    260\u001b[0m         \u001b[0mself\u001b[0m\u001b[0;34m.\u001b[0m\u001b[0m_args_adjust\u001b[0m\u001b[0;34m(\u001b[0m\u001b[0;34m)\u001b[0m\u001b[0;34m\u001b[0m\u001b[0;34m\u001b[0m\u001b[0m\n\u001b[0;32m--> 261\u001b[0;31m         \u001b[0mself\u001b[0m\u001b[0;34m.\u001b[0m\u001b[0m_compute_plot_data\u001b[0m\u001b[0;34m(\u001b[0m\u001b[0;34m)\u001b[0m\u001b[0;34m\u001b[0m\u001b[0;34m\u001b[0m\u001b[0m\n\u001b[0m\u001b[1;32m    262\u001b[0m         \u001b[0mself\u001b[0m\u001b[0;34m.\u001b[0m\u001b[0m_setup_subplots\u001b[0m\u001b[0;34m(\u001b[0m\u001b[0;34m)\u001b[0m\u001b[0;34m\u001b[0m\u001b[0;34m\u001b[0m\u001b[0m\n\u001b[1;32m    263\u001b[0m         \u001b[0mself\u001b[0m\u001b[0;34m.\u001b[0m\u001b[0m_make_plot\u001b[0m\u001b[0;34m(\u001b[0m\u001b[0;34m)\u001b[0m\u001b[0;34m\u001b[0m\u001b[0;34m\u001b[0m\u001b[0m\n",
      "\u001b[0;32m/usr/local/lib/python3.6/dist-packages/pandas/plotting/_matplotlib/core.py\u001b[0m in \u001b[0;36m_compute_plot_data\u001b[0;34m(self)\u001b[0m\n\u001b[1;32m    408\u001b[0m         \u001b[0;31m# no non-numeric frames or series allowed\u001b[0m\u001b[0;34m\u001b[0m\u001b[0;34m\u001b[0m\u001b[0;34m\u001b[0m\u001b[0m\n\u001b[1;32m    409\u001b[0m         \u001b[0;32mif\u001b[0m \u001b[0mis_empty\u001b[0m\u001b[0;34m:\u001b[0m\u001b[0;34m\u001b[0m\u001b[0;34m\u001b[0m\u001b[0m\n\u001b[0;32m--> 410\u001b[0;31m             \u001b[0;32mraise\u001b[0m \u001b[0mTypeError\u001b[0m\u001b[0;34m(\u001b[0m\u001b[0;34m\"no numeric data to plot\"\u001b[0m\u001b[0;34m)\u001b[0m\u001b[0;34m\u001b[0m\u001b[0;34m\u001b[0m\u001b[0m\n\u001b[0m\u001b[1;32m    411\u001b[0m \u001b[0;34m\u001b[0m\u001b[0m\n\u001b[1;32m    412\u001b[0m         \u001b[0;31m# GH25587: cast ExtensionArray of pandas (IntegerArray, etc.) to\u001b[0m\u001b[0;34m\u001b[0m\u001b[0;34m\u001b[0m\u001b[0;34m\u001b[0m\u001b[0m\n",
      "\u001b[0;31mTypeError\u001b[0m: no numeric data to plot"
     ]
    }
   ],
   "source": [
    "import matplotlib    # pip install matplotlib\n",
    "%matplotlib inline\n",
    "\n",
    "musicians[musicians['Name'] == 'Drake'].plot(x='Post Number', y='Likes', kind='bar')\n",
    "musicians[musicians['Name'] == 'Drake'].plot(x='Post Number', y='Shares', kind='bar')\n",
    "musicians[musicians['Name'] == 'Drake'].plot(x='Post Number', y='Comments', kind='bar')"
   ]
  },
  {
   "cell_type": "code",
   "execution_count": 0,
   "metadata": {
    "colab": {},
    "colab_type": "code",
    "id": "q46eKk7eSdAM"
   },
   "outputs": [],
   "source": [
    "musicians[musicians['Name'] == 'Drake'].plot(x='Post Number', y='Rel. Likes', kind='bar')\n",
    "musicians[musicians['Name'] == 'Drake'].plot(x='Post Number', y='Rel. Shares', kind='bar')\n",
    "musicians[musicians['Name'] == 'Drake'].plot(x='Post Number', y='Rel. Comments', kind='bar')"
   ]
  },
  {
   "cell_type": "markdown",
   "metadata": {
    "colab_type": "text",
    "id": "a0nqFCLzSdAR"
   },
   "source": [
    "## Example 10. Comparing different artists to each other"
   ]
  },
  {
   "cell_type": "code",
   "execution_count": 0,
   "metadata": {
    "colab": {},
    "colab_type": "code",
    "id": "4Oag8caUSdAT"
   },
   "outputs": [],
   "source": [
    "# Reset the index to a multi-index\n",
    "musicians = musicians.set_index(['Name','Post Number'])"
   ]
  },
  {
   "cell_type": "code",
   "execution_count": 0,
   "metadata": {
    "colab": {},
    "colab_type": "code",
    "id": "9rhDKOeFSdAb"
   },
   "outputs": [],
   "source": [
    "# The unstack method pivots the index labels\n",
    "# and lets you get data columns grouped by artist\n",
    "musicians.unstack(level=0)['Likes']"
   ]
  },
  {
   "cell_type": "code",
   "execution_count": 0,
   "metadata": {
    "colab": {},
    "colab_type": "code",
    "id": "7RNxLGzNSdAf"
   },
   "outputs": [],
   "source": [
    "# Plot the comparative reactions to each artist's last 10 Facebook posts\n",
    "plot = musicians.unstack(level=0)['Likes'].plot(kind='bar', subplots=False, figsize=(10,5), width=0.8)\n",
    "plot.set_xlabel('10 Latest Posts')\n",
    "plot.set_ylabel('Number of Likes Received')"
   ]
  },
  {
   "cell_type": "code",
   "execution_count": 0,
   "metadata": {
    "colab": {},
    "colab_type": "code",
    "id": "caBYHje2SdAj"
   },
   "outputs": [],
   "source": [
    "# Plot the engagement of each artist's Facebook fan base to the last 10 posts\n",
    "plot = musicians.unstack(level=0)['Rel. Likes'].plot(kind='bar', subplots=False, figsize=(10,5), width=0.8)\n",
    "plot.set_xlabel('10 Latest Posts')\n",
    "plot.set_ylabel('Likes / Total Fans (%)')"
   ]
  },
  {
   "cell_type": "markdown",
   "metadata": {
    "colab_type": "text",
    "id": "DNKz3OPJSdAm"
   },
   "source": [
    "## Example 11. Calculate average engagement"
   ]
  },
  {
   "cell_type": "code",
   "execution_count": 0,
   "metadata": {
    "colab": {},
    "colab_type": "code",
    "id": "POIUSsDnSdAn"
   },
   "outputs": [],
   "source": [
    "print('Average Likes / Total Fans')\n",
    "print(musicians.unstack(level=0)['Rel. Likes'].mean())\n",
    "\n",
    "print('\\nAverage Shares / Total Fans')\n",
    "print(musicians.unstack(level=0)['Rel. Shares'].mean())\n",
    "\n",
    "print('\\nAverage Comments / Total Fans')\n",
    "print(musicians.unstack(level=0)['Rel. Comments'].mean())"
   ]
  }
 ],
 "metadata": {
  "colab": {
   "collapsed_sections": [],
   "name": "Chapter 2 - Mining Facebook.ipynb",
   "provenance": []
  },
  "kernelspec": {
   "display_name": "Python 3 (ipykernel)",
   "language": "python",
   "name": "python3"
  },
  "language_info": {
   "codemirror_mode": {
    "name": "ipython",
    "version": 3
   },
   "file_extension": ".py",
   "mimetype": "text/x-python",
   "name": "python",
   "nbconvert_exporter": "python",
   "pygments_lexer": "ipython3",
   "version": "3.9.12"
  }
 },
 "nbformat": 4,
 "nbformat_minor": 1
}
